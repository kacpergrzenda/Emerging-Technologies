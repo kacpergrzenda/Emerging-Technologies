{
 "cells": [
  {
   "cell_type": "markdown",
   "id": "57572dc6-1c22-440c-85e2-5ff029bfa5f8",
   "metadata": {},
   "source": [
    "# Scikit-Learn Python Library\n",
    "\n",
    "\n",
    "***"
   ]
  },
  {
   "cell_type": "markdown",
   "id": "48191da2-bd51-4fdc-a096-5e3462ab238c",
   "metadata": {},
   "source": [
    "This notebook is a overview of the [sckit-learn Python libray](https://scikit-learn.org/stable/): a free software machine learning library for the [Python](https://www.python.org/) programming language. \n",
    "It also supports supervised and unsupervised learning and provides various tools for model fitting, data preprocessing, model selection and evaluation, and many other utilities."
   ]
  },
  {
   "cell_type": "markdown",
   "id": "2bead61f-416f-430d-a43c-d246a0fc215a",
   "metadata": {},
   "source": [
    "<br>\n",
    "\n",
    "## Different Types of Scikit-Learn Algorithms\n",
    "\n",
    "***"
   ]
  },
  {
   "cell_type": "markdown",
   "id": "e9788d54-75f7-4727-9261-eef37afdb9af",
   "metadata": {},
   "source": [
    "## Basic Example of a Sckit-Learn Algorithm"
   ]
  },
  {
   "cell_type": "code",
   "execution_count": null,
   "id": "ec3fe73e-ce78-4fa1-862e-712041d7ca97",
   "metadata": {},
   "outputs": [],
   "source": []
  },
  {
   "cell_type": "code",
   "execution_count": null,
   "id": "1a56996f-f3a7-4473-b54e-f8e7a9a673e3",
   "metadata": {},
   "outputs": [],
   "source": []
  },
  {
   "cell_type": "code",
   "execution_count": null,
   "id": "535af576-9e8b-4e39-84d2-bfff8b87743d",
   "metadata": {},
   "outputs": [],
   "source": []
  },
  {
   "cell_type": "code",
   "execution_count": null,
   "id": "50c4567c-be48-4c0b-98e2-bbc902864b95",
   "metadata": {},
   "outputs": [],
   "source": []
  },
  {
   "cell_type": "code",
   "execution_count": null,
   "id": "41434b21-9a92-432b-b17d-eb076f715cc0",
   "metadata": {},
   "outputs": [],
   "source": []
  },
  {
   "cell_type": "code",
   "execution_count": null,
   "id": "5d76f9c2-d3f8-4406-b4fe-d538ca0cf701",
   "metadata": {},
   "outputs": [],
   "source": []
  },
  {
   "cell_type": "code",
   "execution_count": null,
   "id": "3ec97c46-a48e-42b1-967c-403fef2cf8ef",
   "metadata": {},
   "outputs": [],
   "source": []
  },
  {
   "cell_type": "markdown",
   "id": "7fd2d769-ccb6-4663-b35b-e1dc4e5301ba",
   "metadata": {},
   "source": [
    "## References\n",
    "1. DataQuest \"Scikit-learn Tutorial: Machine Learning in Python\" https://www.dataquest.io/blog/sci-kit-learn-tutorial/\n",
    "\n",
    "2. \n",
    "\n",
    "3. "
   ]
  },
  {
   "cell_type": "markdown",
   "id": "bb758a1b-057d-4c44-9cf9-afc9d8af121f",
   "metadata": {},
   "source": [
    "***\n",
    "\n",
    "## End"
   ]
  }
 ],
 "metadata": {
  "kernelspec": {
   "display_name": "Python 3",
   "language": "python",
   "name": "python3"
  },
  "language_info": {
   "codemirror_mode": {
    "name": "ipython",
    "version": 3
   },
   "file_extension": ".py",
   "mimetype": "text/x-python",
   "name": "python",
   "nbconvert_exporter": "python",
   "pygments_lexer": "ipython3",
   "version": "3.8.8"
  }
 },
 "nbformat": 4,
 "nbformat_minor": 5
}
