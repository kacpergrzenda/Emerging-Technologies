{
 "cells": [
  {
   "cell_type": "markdown",
   "id": "57572dc6-1c22-440c-85e2-5ff029bfa5f8",
   "metadata": {},
   "source": [
    "# Scikit-Learn Python Library\n",
    "\n",
    "\n",
    "***"
   ]
  },
  {
   "cell_type": "markdown",
   "id": "48191da2-bd51-4fdc-a096-5e3462ab238c",
   "metadata": {},
   "source": [
    "This notebook is a overview of the [sckit-learn Python libray](https://scikit-learn.org/stable/): a free software machine learning library for the [Python](https://www.python.org/) programming language. \n",
    "It also supports supervised and unsupervised learning and provides various tools for model fitting, data preprocessing, model selection and evaluation, and many other utilities."
   ]
  },
  {
   "cell_type": "markdown",
   "id": "e085482e-7840-4fd5-a6cd-e7fa36c717e3",
   "metadata": {},
   "source": [
    "<br>\n",
    "\n",
    "## An introduction to machine learning with scikit-learn\n",
    "https://scikit-learn.org/stable/tutorial/basic/tutorial.html"
   ]
  },
  {
   "cell_type": "code",
   "execution_count": 1,
   "id": "1a56996f-f3a7-4473-b54e-f8e7a9a673e3",
   "metadata": {},
   "outputs": [],
   "source": [
    "import sklearn.datasets as datasets"
   ]
  },
  {
   "cell_type": "code",
   "execution_count": 2,
   "id": "7f109b57-6332-4d80-b503-2522747da8ef",
   "metadata": {},
   "outputs": [],
   "source": [
    "iris = datasets.load_iris()"
   ]
  },
  {
   "cell_type": "code",
   "execution_count": 3,
   "id": "dacf72d3-f796-4ee8-910c-4dd1e40d3d77",
   "metadata": {},
   "outputs": [],
   "source": [
    "digits = datasets.load_digits()"
   ]
  },
  {
   "cell_type": "code",
   "execution_count": 4,
   "id": "f1bb44d0-569d-4604-b751-5722ed949e1f",
   "metadata": {},
   "outputs": [
    {
     "name": "stdout",
     "output_type": "stream",
     "text": [
      "[[ 0.  0.  5. ...  0.  0.  0.]\n",
      " [ 0.  0.  0. ... 10.  0.  0.]\n",
      " [ 0.  0.  0. ... 16.  9.  0.]\n",
      " ...\n",
      " [ 0.  0.  1. ...  6.  0.  0.]\n",
      " [ 0.  0.  2. ... 12.  0.  0.]\n",
      " [ 0.  0. 10. ... 12.  1.  0.]]\n"
     ]
    }
   ],
   "source": [
    "print(digits.data)"
   ]
  },
  {
   "cell_type": "code",
   "execution_count": 5,
   "id": "367754a7-e748-4445-b242-c3fa48f66619",
   "metadata": {},
   "outputs": [
    {
     "data": {
      "text/plain": [
       "array([0, 1, 2, ..., 8, 9, 8])"
      ]
     },
     "execution_count": 5,
     "metadata": {},
     "output_type": "execute_result"
    }
   ],
   "source": [
    "digits.target"
   ]
  },
  {
   "cell_type": "code",
   "execution_count": 6,
   "id": "a02d5562-7afa-444d-8a55-5e00e0f9f0f4",
   "metadata": {},
   "outputs": [
    {
     "data": {
      "text/plain": [
       "array([[ 0.,  0.,  5., 13.,  9.,  1.,  0.,  0.],\n",
       "       [ 0.,  0., 13., 15., 10., 15.,  5.,  0.],\n",
       "       [ 0.,  3., 15.,  2.,  0., 11.,  8.,  0.],\n",
       "       [ 0.,  4., 12.,  0.,  0.,  8.,  8.,  0.],\n",
       "       [ 0.,  5.,  8.,  0.,  0.,  9.,  8.,  0.],\n",
       "       [ 0.,  4., 11.,  0.,  1., 12.,  7.,  0.],\n",
       "       [ 0.,  2., 14.,  5., 10., 12.,  0.,  0.],\n",
       "       [ 0.,  0.,  6., 13., 10.,  0.,  0.,  0.]])"
      ]
     },
     "execution_count": 6,
     "metadata": {},
     "output_type": "execute_result"
    }
   ],
   "source": [
    "digits.images[0]"
   ]
  },
  {
   "cell_type": "code",
   "execution_count": 7,
   "id": "11f1dc90-3ee6-420c-92ec-904d4e0bcc1d",
   "metadata": {},
   "outputs": [],
   "source": [
    "from sklearn import svm"
   ]
  },
  {
   "cell_type": "code",
   "execution_count": 8,
   "id": "8ee2b4d5-a53f-443a-b521-3cc41cccfe5a",
   "metadata": {},
   "outputs": [],
   "source": [
    "clf = svm.SVC(gamma=0.001, C=100.)"
   ]
  },
  {
   "cell_type": "code",
   "execution_count": 9,
   "id": "ef00412b-1fcc-4c1e-88da-04d1f80ee7de",
   "metadata": {},
   "outputs": [
    {
     "data": {
      "text/plain": [
       "SVC(C=100.0, gamma=0.001)"
      ]
     },
     "execution_count": 9,
     "metadata": {},
     "output_type": "execute_result"
    }
   ],
   "source": [
    "clf.fit(digits.data[:-1], digits.target[:-1])"
   ]
  },
  {
   "cell_type": "code",
   "execution_count": 10,
   "id": "97844add-45a3-441f-a968-66b1fb483d45",
   "metadata": {},
   "outputs": [
    {
     "data": {
      "text/plain": [
       "array([8])"
      ]
     },
     "execution_count": 10,
     "metadata": {},
     "output_type": "execute_result"
    }
   ],
   "source": [
    "clf.predict(digits.data[-1:])"
   ]
  },
  {
   "cell_type": "code",
   "execution_count": null,
   "id": "b342bac7-755d-4ce2-90a6-457e2ccf18da",
   "metadata": {},
   "outputs": [],
   "source": []
  },
  {
   "cell_type": "markdown",
   "id": "2bead61f-416f-430d-a43c-d246a0fc215a",
   "metadata": {},
   "source": [
    "<br>\n",
    "\n",
    "## Different Types of Scikit-Learn Algorithms\n",
    "\n",
    "***"
   ]
  },
  {
   "cell_type": "markdown",
   "id": "4fd12591-6ca5-48f1-ac1c-6b3fec69e085",
   "metadata": {},
   "source": [
    "The two main categories of Machine Learning Algorithms are Supervised learning and Unsupervised learning.\n",
    "\n",
    "### Supervised Learning\n",
    "Supervised learning is where an algorithm is trained on input data that has been labeled for a particular output based on example input-output pairs that exist in the algorithm.\n",
    "This basically means the computer is already aware of what the possible output will be of the raw input being processed.\n",
    "\n",
    "<img src=\"https://cdn.datafloq.com/cms/2018/01/23/supervised-learning.png\" alt=\"Supervised-Learning\" width=\"600\">\n",
    "\n",
    "Click [here](https://datafloq.com/read/machine-learning-explained-understanding-learning/4478) for more information about the image.\n",
    "\n",
    "### UnSupervised Learning\n",
    "Unsupervised learning uses algorithms to analyze raw input data, without any pre-assigned labels. It works by discovering patterns and differences in the data set.\n",
    "\n",
    "<img src=\"https://www.gong-jj.com/images/ml-unsup/unsup_header.png\" alt=\"Supervised-Learning\" width=\"600\">\n",
    "\n",
    "Click [here](https://www.gong-jj.com/ul/) for more information about the image."
   ]
  },
  {
   "cell_type": "code",
   "execution_count": null,
   "id": "56c498e2-8484-4c8c-a722-e5e4c9ce67e4",
   "metadata": {},
   "outputs": [],
   "source": []
  },
  {
   "cell_type": "code",
   "execution_count": null,
   "id": "4f051c4c-9525-4e83-9992-b27fc05d55dc",
   "metadata": {},
   "outputs": [],
   "source": []
  },
  {
   "cell_type": "code",
   "execution_count": null,
   "id": "1af93b22-3613-4965-a175-c329899eb462",
   "metadata": {},
   "outputs": [],
   "source": []
  },
  {
   "cell_type": "code",
   "execution_count": null,
   "id": "5f60a9ce-dfd5-4a5b-940c-7ef9bad90d02",
   "metadata": {},
   "outputs": [],
   "source": []
  },
  {
   "cell_type": "code",
   "execution_count": null,
   "id": "a2bfa14c-ec65-45a0-93c6-f8530127aafe",
   "metadata": {},
   "outputs": [],
   "source": []
  },
  {
   "cell_type": "markdown",
   "id": "e9788d54-75f7-4727-9261-eef37afdb9af",
   "metadata": {},
   "source": [
    "## Basic Example of a Sckit-Learn Algorithm\n",
    "\n",
    "***"
   ]
  },
  {
   "cell_type": "code",
   "execution_count": null,
   "id": "535af576-9e8b-4e39-84d2-bfff8b87743d",
   "metadata": {},
   "outputs": [],
   "source": []
  },
  {
   "cell_type": "code",
   "execution_count": null,
   "id": "50c4567c-be48-4c0b-98e2-bbc902864b95",
   "metadata": {},
   "outputs": [],
   "source": []
  },
  {
   "cell_type": "code",
   "execution_count": null,
   "id": "41434b21-9a92-432b-b17d-eb076f715cc0",
   "metadata": {},
   "outputs": [],
   "source": []
  },
  {
   "cell_type": "code",
   "execution_count": null,
   "id": "5d76f9c2-d3f8-4406-b4fe-d538ca0cf701",
   "metadata": {},
   "outputs": [],
   "source": []
  },
  {
   "cell_type": "code",
   "execution_count": null,
   "id": "3ec97c46-a48e-42b1-967c-403fef2cf8ef",
   "metadata": {},
   "outputs": [],
   "source": []
  },
  {
   "cell_type": "markdown",
   "id": "7fd2d769-ccb6-4663-b35b-e1dc4e5301ba",
   "metadata": {},
   "source": [
    "## References\n",
    "1. DataQuest \"Scikit-learn Tutorial: Machine Learning in Python\" https://www.dataquest.io/blog/sci-kit-learn-tutorial/\n",
    "\n",
    "2. \n",
    "\n",
    "3. "
   ]
  },
  {
   "cell_type": "markdown",
   "id": "bb758a1b-057d-4c44-9cf9-afc9d8af121f",
   "metadata": {},
   "source": [
    "***\n",
    "\n",
    "## End"
   ]
  }
 ],
 "metadata": {
  "kernelspec": {
   "display_name": "Python 3",
   "language": "python",
   "name": "python3"
  },
  "language_info": {
   "codemirror_mode": {
    "name": "ipython",
    "version": 3
   },
   "file_extension": ".py",
   "mimetype": "text/x-python",
   "name": "python",
   "nbconvert_exporter": "python",
   "pygments_lexer": "ipython3",
   "version": "3.8.8"
  }
 },
 "nbformat": 4,
 "nbformat_minor": 5
}
