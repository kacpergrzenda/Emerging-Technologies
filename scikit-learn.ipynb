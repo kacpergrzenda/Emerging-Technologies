{
 "cells": [
  {
   "cell_type": "markdown",
   "id": "57572dc6-1c22-440c-85e2-5ff029bfa5f8",
   "metadata": {},
   "source": [
    "# Scikit-Learn Python Library\n",
    "\n",
    "\n",
    "***"
   ]
  },
  {
   "cell_type": "markdown",
   "id": "48191da2-bd51-4fdc-a096-5e3462ab238c",
   "metadata": {},
   "source": [
    "This notebook is a overview of the [sckit-learn Python libray](https://scikit-learn.org/stable/): a free software machine learning library for the [Python](https://www.python.org/) programming language. \n",
    "It also supports supervised and unsupervised learning and provides various tools for model fitting, data preprocessing, model selection and evaluation, and many other utilities."
   ]
  },
  {
   "cell_type": "markdown",
   "id": "e085482e-7840-4fd5-a6cd-e7fa36c717e3",
   "metadata": {},
   "source": [
    "<br>\n",
    "\n",
    "## An introduction to machine learning with scikit-learn\n",
    "https://scikit-learn.org/stable/tutorial/basic/tutorial.html"
   ]
  },
  {
   "cell_type": "code",
   "execution_count": 1,
   "id": "1a56996f-f3a7-4473-b54e-f8e7a9a673e3",
   "metadata": {},
   "outputs": [],
   "source": [
    "import sklearn.datasets as datasets"
   ]
  },
  {
   "cell_type": "code",
   "execution_count": 2,
   "id": "7f109b57-6332-4d80-b503-2522747da8ef",
   "metadata": {},
   "outputs": [],
   "source": [
    "iris = datasets.load_iris()"
   ]
  },
  {
   "cell_type": "code",
   "execution_count": 3,
   "id": "dacf72d3-f796-4ee8-910c-4dd1e40d3d77",
   "metadata": {},
   "outputs": [],
   "source": [
    "digits = datasets.load_digits()"
   ]
  },
  {
   "cell_type": "code",
   "execution_count": 4,
   "id": "f1bb44d0-569d-4604-b751-5722ed949e1f",
   "metadata": {},
   "outputs": [
    {
     "name": "stdout",
     "output_type": "stream",
     "text": [
      "[[ 0.  0.  5. ...  0.  0.  0.]\n",
      " [ 0.  0.  0. ... 10.  0.  0.]\n",
      " [ 0.  0.  0. ... 16.  9.  0.]\n",
      " ...\n",
      " [ 0.  0.  1. ...  6.  0.  0.]\n",
      " [ 0.  0.  2. ... 12.  0.  0.]\n",
      " [ 0.  0. 10. ... 12.  1.  0.]]\n"
     ]
    }
   ],
   "source": [
    "print(digits.data)"
   ]
  },
  {
   "cell_type": "code",
   "execution_count": 5,
   "id": "367754a7-e748-4445-b242-c3fa48f66619",
   "metadata": {},
   "outputs": [
    {
     "data": {
      "text/plain": [
       "array([0, 1, 2, ..., 8, 9, 8])"
      ]
     },
     "execution_count": 5,
     "metadata": {},
     "output_type": "execute_result"
    }
   ],
   "source": [
    "digits.target"
   ]
  },
  {
   "cell_type": "code",
   "execution_count": 6,
   "id": "a02d5562-7afa-444d-8a55-5e00e0f9f0f4",
   "metadata": {},
   "outputs": [
    {
     "data": {
      "text/plain": [
       "array([[ 0.,  0.,  5., 13.,  9.,  1.,  0.,  0.],\n",
       "       [ 0.,  0., 13., 15., 10., 15.,  5.,  0.],\n",
       "       [ 0.,  3., 15.,  2.,  0., 11.,  8.,  0.],\n",
       "       [ 0.,  4., 12.,  0.,  0.,  8.,  8.,  0.],\n",
       "       [ 0.,  5.,  8.,  0.,  0.,  9.,  8.,  0.],\n",
       "       [ 0.,  4., 11.,  0.,  1., 12.,  7.,  0.],\n",
       "       [ 0.,  2., 14.,  5., 10., 12.,  0.,  0.],\n",
       "       [ 0.,  0.,  6., 13., 10.,  0.,  0.,  0.]])"
      ]
     },
     "execution_count": 6,
     "metadata": {},
     "output_type": "execute_result"
    }
   ],
   "source": [
    "digits.images[0]"
   ]
  },
  {
   "cell_type": "code",
   "execution_count": 7,
   "id": "11f1dc90-3ee6-420c-92ec-904d4e0bcc1d",
   "metadata": {},
   "outputs": [],
   "source": [
    "from sklearn import svm"
   ]
  },
  {
   "cell_type": "code",
   "execution_count": 8,
   "id": "8ee2b4d5-a53f-443a-b521-3cc41cccfe5a",
   "metadata": {},
   "outputs": [],
   "source": [
    "clf = svm.SVC(gamma=0.001, C=100.)"
   ]
  },
  {
   "cell_type": "code",
   "execution_count": 9,
   "id": "ef00412b-1fcc-4c1e-88da-04d1f80ee7de",
   "metadata": {},
   "outputs": [
    {
     "data": {
      "text/plain": [
       "SVC(C=100.0, gamma=0.001)"
      ]
     },
     "execution_count": 9,
     "metadata": {},
     "output_type": "execute_result"
    }
   ],
   "source": [
    "clf.fit(digits.data[:-1], digits.target[:-1])"
   ]
  },
  {
   "cell_type": "code",
   "execution_count": 10,
   "id": "97844add-45a3-441f-a968-66b1fb483d45",
   "metadata": {},
   "outputs": [
    {
     "data": {
      "text/plain": [
       "array([8])"
      ]
     },
     "execution_count": 10,
     "metadata": {},
     "output_type": "execute_result"
    }
   ],
   "source": [
    "clf.predict(digits.data[-1:])"
   ]
  },
  {
   "cell_type": "code",
   "execution_count": null,
   "id": "b342bac7-755d-4ce2-90a6-457e2ccf18da",
   "metadata": {},
   "outputs": [],
   "source": []
  },
  {
   "cell_type": "markdown",
   "id": "2bead61f-416f-430d-a43c-d246a0fc215a",
   "metadata": {},
   "source": [
    "<br>\n",
    "\n",
    "## Different Types of Scikit-Learn Algorithms\n",
    "\n",
    "***"
   ]
  },
  {
   "cell_type": "markdown",
   "id": "4fd12591-6ca5-48f1-ac1c-6b3fec69e085",
   "metadata": {},
   "source": [
    "The two main categories of Machine Learning Algorithms are Supervised learning and Unsupervised learning.\n",
    "\n",
    "### Supervised Learning\n",
    "Supervised learning is where an algorithm is trained on input data that has been labeled for a particular output based on example input-output pairs that exist in the algorithm.\n",
    "This basically means the computer is already aware of what the possible output will be of the raw input being processed.\n",
    "\n",
    "<img src=\"https://cdn.datafloq.com/cms/2018/01/23/supervised-learning.png\" alt=\"Supervised-Learning\" width=\"600\">\n",
    "\n",
    "Click [here](https://datafloq.com/read/machine-learning-explained-understanding-learning/4478) for more information about the image.\n",
    "\n",
    "### UnSupervised Learning\n",
    "Unsupervised learning uses algorithms to analyze raw input data, without any pre-assigned labels. It works by discovering patterns and differences in the data set.\n",
    "\n",
    "<img src=\"https://www.gong-jj.com/images/ml-unsup/unsup_header.png\" alt=\"Supervised-Learning\" width=\"600\">\n",
    "\n",
    "Click [here](https://www.gong-jj.com/ul/) for more information about the image."
   ]
  },
  {
   "cell_type": "markdown",
   "id": "646de7bb-60d5-4442-8656-ce40e884d93e",
   "metadata": {},
   "source": [
    "<br>\n",
    "\n",
    "## Supervised Learning Algorithms\n",
    "\n",
    "***"
   ]
  },
  {
   "cell_type": "markdown",
   "id": "9cdfb16d-affb-41c1-877e-77440ccde930",
   "metadata": {},
   "source": [
    "## Classification: Analysis on The Wine Quality Data Set \n",
    "![Wine Quality Data Set](https://archive.ics.uci.edu/ml/assets/MLimages/Large186.jpg)\n",
    "\n",
    "[Wine Quality Data Set](https://archive.ics.uci.edu/ml/datasets/Wine+Quality) available at the [UC Irvine Machine Learning](https://archive.ics.uci.edu/ml/index.php)\n",
    "***"
   ]
  },
  {
   "cell_type": "markdown",
   "id": "271b0b8d-f1aa-482c-bcd2-a3f5d265b6d8",
   "metadata": {},
   "source": [
    "## Setup"
   ]
  },
  {
   "cell_type": "code",
   "execution_count": 11,
   "id": "5f60a9ce-dfd5-4a5b-940c-7ef9bad90d02",
   "metadata": {},
   "outputs": [],
   "source": [
    "# Numerical arrays.\n",
    "import numpy as np\n",
    "\n",
    "# Data frames.\n",
    "import pandas as pd\n",
    "\n",
    "# Plotting.\n",
    "import matplotlib.pyplot as plt\n",
    "\n",
    "# Logistic regression.\n",
    "import sklearn.linear_model as lm\n",
    "\n",
    "# K nearest neaighbours.\n",
    "import sklearn.neighbors as nei\n",
    "\n",
    "# Helper functions.\n",
    "import sklearn.model_selection as mod\n",
    "\n",
    "# Fancier, statistical plots.\n",
    "import seaborn as sns"
   ]
  },
  {
   "cell_type": "code",
   "execution_count": 12,
   "id": "a2bfa14c-ec65-45a0-93c6-f8530127aafe",
   "metadata": {},
   "outputs": [],
   "source": [
    "# Standard plot size.\n",
    "plt.rcParams['figure.figsize'] = (15, 10)\n",
    "\n",
    "# Standard colour scheme.\n",
    "plt.style.use('ggplot')"
   ]
  },
  {
   "cell_type": "markdown",
   "id": "ccda4e5a-8440-4e4a-bdd8-738b053c77f0",
   "metadata": {},
   "source": [
    "### The Red Wine Quality Dataset"
   ]
  },
  {
   "cell_type": "code",
   "execution_count": 13,
   "id": "c7d21a93-8c8f-4954-b81c-c798afc43474",
   "metadata": {
    "tags": []
   },
   "outputs": [],
   "source": [
    "# Load the Wine Quality data set from a URL.\n",
    "df = pd.read_csv(\"https://archive.ics.uci.edu/ml/machine-learning-databases/wine-quality/winequality-red.csv\", sep=';')"
   ]
  },
  {
   "cell_type": "code",
   "execution_count": 14,
   "id": "a03204c7-9105-457c-90ae-14f64aae47fc",
   "metadata": {},
   "outputs": [
    {
     "data": {
      "text/html": [
       "<div>\n",
       "<style scoped>\n",
       "    .dataframe tbody tr th:only-of-type {\n",
       "        vertical-align: middle;\n",
       "    }\n",
       "\n",
       "    .dataframe tbody tr th {\n",
       "        vertical-align: top;\n",
       "    }\n",
       "\n",
       "    .dataframe thead th {\n",
       "        text-align: right;\n",
       "    }\n",
       "</style>\n",
       "<table border=\"1\" class=\"dataframe\">\n",
       "  <thead>\n",
       "    <tr style=\"text-align: right;\">\n",
       "      <th></th>\n",
       "      <th>fixed acidity</th>\n",
       "      <th>volatile acidity</th>\n",
       "      <th>citric acid</th>\n",
       "      <th>residual sugar</th>\n",
       "      <th>chlorides</th>\n",
       "      <th>free sulfur dioxide</th>\n",
       "      <th>total sulfur dioxide</th>\n",
       "      <th>density</th>\n",
       "      <th>pH</th>\n",
       "      <th>sulphates</th>\n",
       "      <th>alcohol</th>\n",
       "      <th>quality</th>\n",
       "    </tr>\n",
       "  </thead>\n",
       "  <tbody>\n",
       "    <tr>\n",
       "      <th>0</th>\n",
       "      <td>7.4</td>\n",
       "      <td>0.70</td>\n",
       "      <td>0.00</td>\n",
       "      <td>1.9</td>\n",
       "      <td>0.076</td>\n",
       "      <td>11.0</td>\n",
       "      <td>34.0</td>\n",
       "      <td>0.9978</td>\n",
       "      <td>3.51</td>\n",
       "      <td>0.56</td>\n",
       "      <td>9.4</td>\n",
       "      <td>5</td>\n",
       "    </tr>\n",
       "    <tr>\n",
       "      <th>1</th>\n",
       "      <td>7.8</td>\n",
       "      <td>0.88</td>\n",
       "      <td>0.00</td>\n",
       "      <td>2.6</td>\n",
       "      <td>0.098</td>\n",
       "      <td>25.0</td>\n",
       "      <td>67.0</td>\n",
       "      <td>0.9968</td>\n",
       "      <td>3.20</td>\n",
       "      <td>0.68</td>\n",
       "      <td>9.8</td>\n",
       "      <td>5</td>\n",
       "    </tr>\n",
       "    <tr>\n",
       "      <th>2</th>\n",
       "      <td>7.8</td>\n",
       "      <td>0.76</td>\n",
       "      <td>0.04</td>\n",
       "      <td>2.3</td>\n",
       "      <td>0.092</td>\n",
       "      <td>15.0</td>\n",
       "      <td>54.0</td>\n",
       "      <td>0.9970</td>\n",
       "      <td>3.26</td>\n",
       "      <td>0.65</td>\n",
       "      <td>9.8</td>\n",
       "      <td>5</td>\n",
       "    </tr>\n",
       "    <tr>\n",
       "      <th>3</th>\n",
       "      <td>11.2</td>\n",
       "      <td>0.28</td>\n",
       "      <td>0.56</td>\n",
       "      <td>1.9</td>\n",
       "      <td>0.075</td>\n",
       "      <td>17.0</td>\n",
       "      <td>60.0</td>\n",
       "      <td>0.9980</td>\n",
       "      <td>3.16</td>\n",
       "      <td>0.58</td>\n",
       "      <td>9.8</td>\n",
       "      <td>6</td>\n",
       "    </tr>\n",
       "    <tr>\n",
       "      <th>4</th>\n",
       "      <td>7.4</td>\n",
       "      <td>0.70</td>\n",
       "      <td>0.00</td>\n",
       "      <td>1.9</td>\n",
       "      <td>0.076</td>\n",
       "      <td>11.0</td>\n",
       "      <td>34.0</td>\n",
       "      <td>0.9978</td>\n",
       "      <td>3.51</td>\n",
       "      <td>0.56</td>\n",
       "      <td>9.4</td>\n",
       "      <td>5</td>\n",
       "    </tr>\n",
       "    <tr>\n",
       "      <th>5</th>\n",
       "      <td>7.4</td>\n",
       "      <td>0.66</td>\n",
       "      <td>0.00</td>\n",
       "      <td>1.8</td>\n",
       "      <td>0.075</td>\n",
       "      <td>13.0</td>\n",
       "      <td>40.0</td>\n",
       "      <td>0.9978</td>\n",
       "      <td>3.51</td>\n",
       "      <td>0.56</td>\n",
       "      <td>9.4</td>\n",
       "      <td>5</td>\n",
       "    </tr>\n",
       "    <tr>\n",
       "      <th>6</th>\n",
       "      <td>7.9</td>\n",
       "      <td>0.60</td>\n",
       "      <td>0.06</td>\n",
       "      <td>1.6</td>\n",
       "      <td>0.069</td>\n",
       "      <td>15.0</td>\n",
       "      <td>59.0</td>\n",
       "      <td>0.9964</td>\n",
       "      <td>3.30</td>\n",
       "      <td>0.46</td>\n",
       "      <td>9.4</td>\n",
       "      <td>5</td>\n",
       "    </tr>\n",
       "    <tr>\n",
       "      <th>7</th>\n",
       "      <td>7.3</td>\n",
       "      <td>0.65</td>\n",
       "      <td>0.00</td>\n",
       "      <td>1.2</td>\n",
       "      <td>0.065</td>\n",
       "      <td>15.0</td>\n",
       "      <td>21.0</td>\n",
       "      <td>0.9946</td>\n",
       "      <td>3.39</td>\n",
       "      <td>0.47</td>\n",
       "      <td>10.0</td>\n",
       "      <td>7</td>\n",
       "    </tr>\n",
       "    <tr>\n",
       "      <th>8</th>\n",
       "      <td>7.8</td>\n",
       "      <td>0.58</td>\n",
       "      <td>0.02</td>\n",
       "      <td>2.0</td>\n",
       "      <td>0.073</td>\n",
       "      <td>9.0</td>\n",
       "      <td>18.0</td>\n",
       "      <td>0.9968</td>\n",
       "      <td>3.36</td>\n",
       "      <td>0.57</td>\n",
       "      <td>9.5</td>\n",
       "      <td>7</td>\n",
       "    </tr>\n",
       "    <tr>\n",
       "      <th>9</th>\n",
       "      <td>7.5</td>\n",
       "      <td>0.50</td>\n",
       "      <td>0.36</td>\n",
       "      <td>6.1</td>\n",
       "      <td>0.071</td>\n",
       "      <td>17.0</td>\n",
       "      <td>102.0</td>\n",
       "      <td>0.9978</td>\n",
       "      <td>3.35</td>\n",
       "      <td>0.80</td>\n",
       "      <td>10.5</td>\n",
       "      <td>5</td>\n",
       "    </tr>\n",
       "  </tbody>\n",
       "</table>\n",
       "</div>"
      ],
      "text/plain": [
       "   fixed acidity  volatile acidity  citric acid  residual sugar  chlorides  \\\n",
       "0            7.4              0.70         0.00             1.9      0.076   \n",
       "1            7.8              0.88         0.00             2.6      0.098   \n",
       "2            7.8              0.76         0.04             2.3      0.092   \n",
       "3           11.2              0.28         0.56             1.9      0.075   \n",
       "4            7.4              0.70         0.00             1.9      0.076   \n",
       "5            7.4              0.66         0.00             1.8      0.075   \n",
       "6            7.9              0.60         0.06             1.6      0.069   \n",
       "7            7.3              0.65         0.00             1.2      0.065   \n",
       "8            7.8              0.58         0.02             2.0      0.073   \n",
       "9            7.5              0.50         0.36             6.1      0.071   \n",
       "\n",
       "   free sulfur dioxide  total sulfur dioxide  density    pH  sulphates  \\\n",
       "0                 11.0                  34.0   0.9978  3.51       0.56   \n",
       "1                 25.0                  67.0   0.9968  3.20       0.68   \n",
       "2                 15.0                  54.0   0.9970  3.26       0.65   \n",
       "3                 17.0                  60.0   0.9980  3.16       0.58   \n",
       "4                 11.0                  34.0   0.9978  3.51       0.56   \n",
       "5                 13.0                  40.0   0.9978  3.51       0.56   \n",
       "6                 15.0                  59.0   0.9964  3.30       0.46   \n",
       "7                 15.0                  21.0   0.9946  3.39       0.47   \n",
       "8                  9.0                  18.0   0.9968  3.36       0.57   \n",
       "9                 17.0                 102.0   0.9978  3.35       0.80   \n",
       "\n",
       "   alcohol  quality  \n",
       "0      9.4        5  \n",
       "1      9.8        5  \n",
       "2      9.8        5  \n",
       "3      9.8        6  \n",
       "4      9.4        5  \n",
       "5      9.4        5  \n",
       "6      9.4        5  \n",
       "7     10.0        7  \n",
       "8      9.5        7  \n",
       "9     10.5        5  "
      ]
     },
     "execution_count": 14,
     "metadata": {},
     "output_type": "execute_result"
    }
   ],
   "source": [
    "df.head(10)"
   ]
  },
  {
   "cell_type": "code",
   "execution_count": 15,
   "id": "150460c4-09d7-4d16-9eba-4ad189934c03",
   "metadata": {},
   "outputs": [
    {
     "data": {
      "text/plain": [
       "(1599, 12)"
      ]
     },
     "execution_count": 15,
     "metadata": {},
     "output_type": "execute_result"
    }
   ],
   "source": [
    "# Have a look at the data.\n",
    "df.shape"
   ]
  },
  {
   "cell_type": "code",
   "execution_count": 16,
   "id": "e36a7cb5-1c71-43b9-b9df-0f4000033e5b",
   "metadata": {},
   "outputs": [
    {
     "data": {
      "text/html": [
       "<div>\n",
       "<style scoped>\n",
       "    .dataframe tbody tr th:only-of-type {\n",
       "        vertical-align: middle;\n",
       "    }\n",
       "\n",
       "    .dataframe tbody tr th {\n",
       "        vertical-align: top;\n",
       "    }\n",
       "\n",
       "    .dataframe thead th {\n",
       "        text-align: right;\n",
       "    }\n",
       "</style>\n",
       "<table border=\"1\" class=\"dataframe\">\n",
       "  <thead>\n",
       "    <tr style=\"text-align: right;\">\n",
       "      <th></th>\n",
       "      <th>fixed acidity</th>\n",
       "      <th>volatile acidity</th>\n",
       "      <th>citric acid</th>\n",
       "      <th>residual sugar</th>\n",
       "      <th>chlorides</th>\n",
       "      <th>free sulfur dioxide</th>\n",
       "      <th>total sulfur dioxide</th>\n",
       "      <th>density</th>\n",
       "      <th>pH</th>\n",
       "      <th>sulphates</th>\n",
       "      <th>alcohol</th>\n",
       "      <th>quality</th>\n",
       "    </tr>\n",
       "  </thead>\n",
       "  <tbody>\n",
       "    <tr>\n",
       "      <th>count</th>\n",
       "      <td>1599.000000</td>\n",
       "      <td>1599.000000</td>\n",
       "      <td>1599.000000</td>\n",
       "      <td>1599.000000</td>\n",
       "      <td>1599.000000</td>\n",
       "      <td>1599.000000</td>\n",
       "      <td>1599.000000</td>\n",
       "      <td>1599.000000</td>\n",
       "      <td>1599.000000</td>\n",
       "      <td>1599.000000</td>\n",
       "      <td>1599.000000</td>\n",
       "      <td>1599.000000</td>\n",
       "    </tr>\n",
       "    <tr>\n",
       "      <th>mean</th>\n",
       "      <td>8.319637</td>\n",
       "      <td>0.527821</td>\n",
       "      <td>0.270976</td>\n",
       "      <td>2.538806</td>\n",
       "      <td>0.087467</td>\n",
       "      <td>15.874922</td>\n",
       "      <td>46.467792</td>\n",
       "      <td>0.996747</td>\n",
       "      <td>3.311113</td>\n",
       "      <td>0.658149</td>\n",
       "      <td>10.422983</td>\n",
       "      <td>5.636023</td>\n",
       "    </tr>\n",
       "    <tr>\n",
       "      <th>std</th>\n",
       "      <td>1.741096</td>\n",
       "      <td>0.179060</td>\n",
       "      <td>0.194801</td>\n",
       "      <td>1.409928</td>\n",
       "      <td>0.047065</td>\n",
       "      <td>10.460157</td>\n",
       "      <td>32.895324</td>\n",
       "      <td>0.001887</td>\n",
       "      <td>0.154386</td>\n",
       "      <td>0.169507</td>\n",
       "      <td>1.065668</td>\n",
       "      <td>0.807569</td>\n",
       "    </tr>\n",
       "    <tr>\n",
       "      <th>min</th>\n",
       "      <td>4.600000</td>\n",
       "      <td>0.120000</td>\n",
       "      <td>0.000000</td>\n",
       "      <td>0.900000</td>\n",
       "      <td>0.012000</td>\n",
       "      <td>1.000000</td>\n",
       "      <td>6.000000</td>\n",
       "      <td>0.990070</td>\n",
       "      <td>2.740000</td>\n",
       "      <td>0.330000</td>\n",
       "      <td>8.400000</td>\n",
       "      <td>3.000000</td>\n",
       "    </tr>\n",
       "    <tr>\n",
       "      <th>25%</th>\n",
       "      <td>7.100000</td>\n",
       "      <td>0.390000</td>\n",
       "      <td>0.090000</td>\n",
       "      <td>1.900000</td>\n",
       "      <td>0.070000</td>\n",
       "      <td>7.000000</td>\n",
       "      <td>22.000000</td>\n",
       "      <td>0.995600</td>\n",
       "      <td>3.210000</td>\n",
       "      <td>0.550000</td>\n",
       "      <td>9.500000</td>\n",
       "      <td>5.000000</td>\n",
       "    </tr>\n",
       "    <tr>\n",
       "      <th>50%</th>\n",
       "      <td>7.900000</td>\n",
       "      <td>0.520000</td>\n",
       "      <td>0.260000</td>\n",
       "      <td>2.200000</td>\n",
       "      <td>0.079000</td>\n",
       "      <td>14.000000</td>\n",
       "      <td>38.000000</td>\n",
       "      <td>0.996750</td>\n",
       "      <td>3.310000</td>\n",
       "      <td>0.620000</td>\n",
       "      <td>10.200000</td>\n",
       "      <td>6.000000</td>\n",
       "    </tr>\n",
       "    <tr>\n",
       "      <th>75%</th>\n",
       "      <td>9.200000</td>\n",
       "      <td>0.640000</td>\n",
       "      <td>0.420000</td>\n",
       "      <td>2.600000</td>\n",
       "      <td>0.090000</td>\n",
       "      <td>21.000000</td>\n",
       "      <td>62.000000</td>\n",
       "      <td>0.997835</td>\n",
       "      <td>3.400000</td>\n",
       "      <td>0.730000</td>\n",
       "      <td>11.100000</td>\n",
       "      <td>6.000000</td>\n",
       "    </tr>\n",
       "    <tr>\n",
       "      <th>max</th>\n",
       "      <td>15.900000</td>\n",
       "      <td>1.580000</td>\n",
       "      <td>1.000000</td>\n",
       "      <td>15.500000</td>\n",
       "      <td>0.611000</td>\n",
       "      <td>72.000000</td>\n",
       "      <td>289.000000</td>\n",
       "      <td>1.003690</td>\n",
       "      <td>4.010000</td>\n",
       "      <td>2.000000</td>\n",
       "      <td>14.900000</td>\n",
       "      <td>8.000000</td>\n",
       "    </tr>\n",
       "  </tbody>\n",
       "</table>\n",
       "</div>"
      ],
      "text/plain": [
       "       fixed acidity  volatile acidity  citric acid  residual sugar  \\\n",
       "count    1599.000000       1599.000000  1599.000000     1599.000000   \n",
       "mean        8.319637          0.527821     0.270976        2.538806   \n",
       "std         1.741096          0.179060     0.194801        1.409928   \n",
       "min         4.600000          0.120000     0.000000        0.900000   \n",
       "25%         7.100000          0.390000     0.090000        1.900000   \n",
       "50%         7.900000          0.520000     0.260000        2.200000   \n",
       "75%         9.200000          0.640000     0.420000        2.600000   \n",
       "max        15.900000          1.580000     1.000000       15.500000   \n",
       "\n",
       "         chlorides  free sulfur dioxide  total sulfur dioxide      density  \\\n",
       "count  1599.000000          1599.000000           1599.000000  1599.000000   \n",
       "mean      0.087467            15.874922             46.467792     0.996747   \n",
       "std       0.047065            10.460157             32.895324     0.001887   \n",
       "min       0.012000             1.000000              6.000000     0.990070   \n",
       "25%       0.070000             7.000000             22.000000     0.995600   \n",
       "50%       0.079000            14.000000             38.000000     0.996750   \n",
       "75%       0.090000            21.000000             62.000000     0.997835   \n",
       "max       0.611000            72.000000            289.000000     1.003690   \n",
       "\n",
       "                pH    sulphates      alcohol      quality  \n",
       "count  1599.000000  1599.000000  1599.000000  1599.000000  \n",
       "mean      3.311113     0.658149    10.422983     5.636023  \n",
       "std       0.154386     0.169507     1.065668     0.807569  \n",
       "min       2.740000     0.330000     8.400000     3.000000  \n",
       "25%       3.210000     0.550000     9.500000     5.000000  \n",
       "50%       3.310000     0.620000    10.200000     6.000000  \n",
       "75%       3.400000     0.730000    11.100000     6.000000  \n",
       "max       4.010000     2.000000    14.900000     8.000000  "
      ]
     },
     "execution_count": 16,
     "metadata": {},
     "output_type": "execute_result"
    }
   ],
   "source": [
    "# Summary statistics.\n",
    "df.describe()"
   ]
  },
  {
   "cell_type": "code",
   "execution_count": 17,
   "id": "e34fe2db-6e67-4aa2-82f3-185433462a33",
   "metadata": {},
   "outputs": [
    {
     "name": "stdout",
     "output_type": "stream",
     "text": [
      "<class 'pandas.core.frame.DataFrame'>\n",
      "RangeIndex: 1599 entries, 0 to 1598\n",
      "Data columns (total 12 columns):\n",
      " #   Column                Non-Null Count  Dtype  \n",
      "---  ------                --------------  -----  \n",
      " 0   fixed acidity         1599 non-null   float64\n",
      " 1   volatile acidity      1599 non-null   float64\n",
      " 2   citric acid           1599 non-null   float64\n",
      " 3   residual sugar        1599 non-null   float64\n",
      " 4   chlorides             1599 non-null   float64\n",
      " 5   free sulfur dioxide   1599 non-null   float64\n",
      " 6   total sulfur dioxide  1599 non-null   float64\n",
      " 7   density               1599 non-null   float64\n",
      " 8   pH                    1599 non-null   float64\n",
      " 9   sulphates             1599 non-null   float64\n",
      " 10  alcohol               1599 non-null   float64\n",
      " 11  quality               1599 non-null   int64  \n",
      "dtypes: float64(11), int64(1)\n",
      "memory usage: 150.0 KB\n"
     ]
    }
   ],
   "source": [
    "# Data Information\n",
    "df.info()"
   ]
  },
  {
   "cell_type": "code",
   "execution_count": 18,
   "id": "f9e6f142-6e4f-4818-bfcf-5ecead97d2ad",
   "metadata": {},
   "outputs": [
    {
     "data": {
      "text/html": [
       "<div>\n",
       "<style scoped>\n",
       "    .dataframe tbody tr th:only-of-type {\n",
       "        vertical-align: middle;\n",
       "    }\n",
       "\n",
       "    .dataframe tbody tr th {\n",
       "        vertical-align: top;\n",
       "    }\n",
       "\n",
       "    .dataframe thead th {\n",
       "        text-align: right;\n",
       "    }\n",
       "</style>\n",
       "<table border=\"1\" class=\"dataframe\">\n",
       "  <thead>\n",
       "    <tr style=\"text-align: right;\">\n",
       "      <th></th>\n",
       "      <th>fixed acidity</th>\n",
       "      <th>volatile acidity</th>\n",
       "      <th>citric acid</th>\n",
       "      <th>residual sugar</th>\n",
       "      <th>chlorides</th>\n",
       "      <th>free sulfur dioxide</th>\n",
       "      <th>total sulfur dioxide</th>\n",
       "      <th>density</th>\n",
       "      <th>pH</th>\n",
       "      <th>sulphates</th>\n",
       "      <th>alcohol</th>\n",
       "      <th>quality</th>\n",
       "    </tr>\n",
       "  </thead>\n",
       "  <tbody>\n",
       "    <tr>\n",
       "      <th>fixed acidity</th>\n",
       "      <td>1.000000</td>\n",
       "      <td>-0.256131</td>\n",
       "      <td>0.671703</td>\n",
       "      <td>0.114777</td>\n",
       "      <td>0.093705</td>\n",
       "      <td>-0.153794</td>\n",
       "      <td>-0.113181</td>\n",
       "      <td>0.668047</td>\n",
       "      <td>-0.682978</td>\n",
       "      <td>0.183006</td>\n",
       "      <td>-0.061668</td>\n",
       "      <td>0.124052</td>\n",
       "    </tr>\n",
       "    <tr>\n",
       "      <th>volatile acidity</th>\n",
       "      <td>-0.256131</td>\n",
       "      <td>1.000000</td>\n",
       "      <td>-0.552496</td>\n",
       "      <td>0.001918</td>\n",
       "      <td>0.061298</td>\n",
       "      <td>-0.010504</td>\n",
       "      <td>0.076470</td>\n",
       "      <td>0.022026</td>\n",
       "      <td>0.234937</td>\n",
       "      <td>-0.260987</td>\n",
       "      <td>-0.202288</td>\n",
       "      <td>-0.390558</td>\n",
       "    </tr>\n",
       "    <tr>\n",
       "      <th>citric acid</th>\n",
       "      <td>0.671703</td>\n",
       "      <td>-0.552496</td>\n",
       "      <td>1.000000</td>\n",
       "      <td>0.143577</td>\n",
       "      <td>0.203823</td>\n",
       "      <td>-0.060978</td>\n",
       "      <td>0.035533</td>\n",
       "      <td>0.364947</td>\n",
       "      <td>-0.541904</td>\n",
       "      <td>0.312770</td>\n",
       "      <td>0.109903</td>\n",
       "      <td>0.226373</td>\n",
       "    </tr>\n",
       "    <tr>\n",
       "      <th>residual sugar</th>\n",
       "      <td>0.114777</td>\n",
       "      <td>0.001918</td>\n",
       "      <td>0.143577</td>\n",
       "      <td>1.000000</td>\n",
       "      <td>0.055610</td>\n",
       "      <td>0.187049</td>\n",
       "      <td>0.203028</td>\n",
       "      <td>0.355283</td>\n",
       "      <td>-0.085652</td>\n",
       "      <td>0.005527</td>\n",
       "      <td>0.042075</td>\n",
       "      <td>0.013732</td>\n",
       "    </tr>\n",
       "    <tr>\n",
       "      <th>chlorides</th>\n",
       "      <td>0.093705</td>\n",
       "      <td>0.061298</td>\n",
       "      <td>0.203823</td>\n",
       "      <td>0.055610</td>\n",
       "      <td>1.000000</td>\n",
       "      <td>0.005562</td>\n",
       "      <td>0.047400</td>\n",
       "      <td>0.200632</td>\n",
       "      <td>-0.265026</td>\n",
       "      <td>0.371260</td>\n",
       "      <td>-0.221141</td>\n",
       "      <td>-0.128907</td>\n",
       "    </tr>\n",
       "    <tr>\n",
       "      <th>free sulfur dioxide</th>\n",
       "      <td>-0.153794</td>\n",
       "      <td>-0.010504</td>\n",
       "      <td>-0.060978</td>\n",
       "      <td>0.187049</td>\n",
       "      <td>0.005562</td>\n",
       "      <td>1.000000</td>\n",
       "      <td>0.667666</td>\n",
       "      <td>-0.021946</td>\n",
       "      <td>0.070377</td>\n",
       "      <td>0.051658</td>\n",
       "      <td>-0.069408</td>\n",
       "      <td>-0.050656</td>\n",
       "    </tr>\n",
       "    <tr>\n",
       "      <th>total sulfur dioxide</th>\n",
       "      <td>-0.113181</td>\n",
       "      <td>0.076470</td>\n",
       "      <td>0.035533</td>\n",
       "      <td>0.203028</td>\n",
       "      <td>0.047400</td>\n",
       "      <td>0.667666</td>\n",
       "      <td>1.000000</td>\n",
       "      <td>0.071269</td>\n",
       "      <td>-0.066495</td>\n",
       "      <td>0.042947</td>\n",
       "      <td>-0.205654</td>\n",
       "      <td>-0.185100</td>\n",
       "    </tr>\n",
       "    <tr>\n",
       "      <th>density</th>\n",
       "      <td>0.668047</td>\n",
       "      <td>0.022026</td>\n",
       "      <td>0.364947</td>\n",
       "      <td>0.355283</td>\n",
       "      <td>0.200632</td>\n",
       "      <td>-0.021946</td>\n",
       "      <td>0.071269</td>\n",
       "      <td>1.000000</td>\n",
       "      <td>-0.341699</td>\n",
       "      <td>0.148506</td>\n",
       "      <td>-0.496180</td>\n",
       "      <td>-0.174919</td>\n",
       "    </tr>\n",
       "    <tr>\n",
       "      <th>pH</th>\n",
       "      <td>-0.682978</td>\n",
       "      <td>0.234937</td>\n",
       "      <td>-0.541904</td>\n",
       "      <td>-0.085652</td>\n",
       "      <td>-0.265026</td>\n",
       "      <td>0.070377</td>\n",
       "      <td>-0.066495</td>\n",
       "      <td>-0.341699</td>\n",
       "      <td>1.000000</td>\n",
       "      <td>-0.196648</td>\n",
       "      <td>0.205633</td>\n",
       "      <td>-0.057731</td>\n",
       "    </tr>\n",
       "    <tr>\n",
       "      <th>sulphates</th>\n",
       "      <td>0.183006</td>\n",
       "      <td>-0.260987</td>\n",
       "      <td>0.312770</td>\n",
       "      <td>0.005527</td>\n",
       "      <td>0.371260</td>\n",
       "      <td>0.051658</td>\n",
       "      <td>0.042947</td>\n",
       "      <td>0.148506</td>\n",
       "      <td>-0.196648</td>\n",
       "      <td>1.000000</td>\n",
       "      <td>0.093595</td>\n",
       "      <td>0.251397</td>\n",
       "    </tr>\n",
       "    <tr>\n",
       "      <th>alcohol</th>\n",
       "      <td>-0.061668</td>\n",
       "      <td>-0.202288</td>\n",
       "      <td>0.109903</td>\n",
       "      <td>0.042075</td>\n",
       "      <td>-0.221141</td>\n",
       "      <td>-0.069408</td>\n",
       "      <td>-0.205654</td>\n",
       "      <td>-0.496180</td>\n",
       "      <td>0.205633</td>\n",
       "      <td>0.093595</td>\n",
       "      <td>1.000000</td>\n",
       "      <td>0.476166</td>\n",
       "    </tr>\n",
       "    <tr>\n",
       "      <th>quality</th>\n",
       "      <td>0.124052</td>\n",
       "      <td>-0.390558</td>\n",
       "      <td>0.226373</td>\n",
       "      <td>0.013732</td>\n",
       "      <td>-0.128907</td>\n",
       "      <td>-0.050656</td>\n",
       "      <td>-0.185100</td>\n",
       "      <td>-0.174919</td>\n",
       "      <td>-0.057731</td>\n",
       "      <td>0.251397</td>\n",
       "      <td>0.476166</td>\n",
       "      <td>1.000000</td>\n",
       "    </tr>\n",
       "  </tbody>\n",
       "</table>\n",
       "</div>"
      ],
      "text/plain": [
       "                      fixed acidity  volatile acidity  citric acid  \\\n",
       "fixed acidity              1.000000         -0.256131     0.671703   \n",
       "volatile acidity          -0.256131          1.000000    -0.552496   \n",
       "citric acid                0.671703         -0.552496     1.000000   \n",
       "residual sugar             0.114777          0.001918     0.143577   \n",
       "chlorides                  0.093705          0.061298     0.203823   \n",
       "free sulfur dioxide       -0.153794         -0.010504    -0.060978   \n",
       "total sulfur dioxide      -0.113181          0.076470     0.035533   \n",
       "density                    0.668047          0.022026     0.364947   \n",
       "pH                        -0.682978          0.234937    -0.541904   \n",
       "sulphates                  0.183006         -0.260987     0.312770   \n",
       "alcohol                   -0.061668         -0.202288     0.109903   \n",
       "quality                    0.124052         -0.390558     0.226373   \n",
       "\n",
       "                      residual sugar  chlorides  free sulfur dioxide  \\\n",
       "fixed acidity               0.114777   0.093705            -0.153794   \n",
       "volatile acidity            0.001918   0.061298            -0.010504   \n",
       "citric acid                 0.143577   0.203823            -0.060978   \n",
       "residual sugar              1.000000   0.055610             0.187049   \n",
       "chlorides                   0.055610   1.000000             0.005562   \n",
       "free sulfur dioxide         0.187049   0.005562             1.000000   \n",
       "total sulfur dioxide        0.203028   0.047400             0.667666   \n",
       "density                     0.355283   0.200632            -0.021946   \n",
       "pH                         -0.085652  -0.265026             0.070377   \n",
       "sulphates                   0.005527   0.371260             0.051658   \n",
       "alcohol                     0.042075  -0.221141            -0.069408   \n",
       "quality                     0.013732  -0.128907            -0.050656   \n",
       "\n",
       "                      total sulfur dioxide   density        pH  sulphates  \\\n",
       "fixed acidity                    -0.113181  0.668047 -0.682978   0.183006   \n",
       "volatile acidity                  0.076470  0.022026  0.234937  -0.260987   \n",
       "citric acid                       0.035533  0.364947 -0.541904   0.312770   \n",
       "residual sugar                    0.203028  0.355283 -0.085652   0.005527   \n",
       "chlorides                         0.047400  0.200632 -0.265026   0.371260   \n",
       "free sulfur dioxide               0.667666 -0.021946  0.070377   0.051658   \n",
       "total sulfur dioxide              1.000000  0.071269 -0.066495   0.042947   \n",
       "density                           0.071269  1.000000 -0.341699   0.148506   \n",
       "pH                               -0.066495 -0.341699  1.000000  -0.196648   \n",
       "sulphates                         0.042947  0.148506 -0.196648   1.000000   \n",
       "alcohol                          -0.205654 -0.496180  0.205633   0.093595   \n",
       "quality                          -0.185100 -0.174919 -0.057731   0.251397   \n",
       "\n",
       "                       alcohol   quality  \n",
       "fixed acidity        -0.061668  0.124052  \n",
       "volatile acidity     -0.202288 -0.390558  \n",
       "citric acid           0.109903  0.226373  \n",
       "residual sugar        0.042075  0.013732  \n",
       "chlorides            -0.221141 -0.128907  \n",
       "free sulfur dioxide  -0.069408 -0.050656  \n",
       "total sulfur dioxide -0.205654 -0.185100  \n",
       "density              -0.496180 -0.174919  \n",
       "pH                    0.205633 -0.057731  \n",
       "sulphates             0.093595  0.251397  \n",
       "alcohol               1.000000  0.476166  \n",
       "quality               0.476166  1.000000  "
      ]
     },
     "execution_count": 18,
     "metadata": {},
     "output_type": "execute_result"
    }
   ],
   "source": [
    "# Feature Relationships\n",
    "df.corr()"
   ]
  },
  {
   "cell_type": "markdown",
   "id": "d0c72b5d-4d0c-4bb0-aa92-abc79928a660",
   "metadata": {},
   "source": []
  },
  {
   "cell_type": "markdown",
   "id": "6d34aa94-767f-43a9-864b-c7239e62bb18",
   "metadata": {},
   "source": []
  },
  {
   "cell_type": "code",
   "execution_count": 19,
   "id": "8a157105-979b-41e7-ba7c-7effef3d9cd9",
   "metadata": {},
   "outputs": [],
   "source": [
    "# Assign Specific Labels to Wine Quality\n",
    "bins = (0, 4, 7, 10)\n",
    "labels = [\"bad\", \"medium\", \"good\"]\n",
    "df['quality'] = pd.cut(x = df['quality'], bins = bins, labels = labels)"
   ]
  },
  {
   "cell_type": "code",
   "execution_count": 20,
   "id": "5071d6da-9639-40e0-b3dc-9a631d73950c",
   "metadata": {},
   "outputs": [
    {
     "data": {
      "text/plain": [
       "medium    1518\n",
       "bad         63\n",
       "good        18\n",
       "Name: quality, dtype: int64"
      ]
     },
     "execution_count": 20,
     "metadata": {},
     "output_type": "execute_result"
    }
   ],
   "source": [
    "df['quality'].value_counts()"
   ]
  },
  {
   "cell_type": "markdown",
   "id": "c31a222b-8f30-49dc-8790-78fc2709b875",
   "metadata": {},
   "source": [
    "### Visualise Data Set"
   ]
  },
  {
   "cell_type": "code",
   "execution_count": null,
   "id": "30faba11-d50b-4010-9dfe-5c5e7db17d30",
   "metadata": {},
   "outputs": [],
   "source": [
    "# Scatter plots and kdes.\n",
    "sns.pairplot(df, hue='quality', palette = \"Set2\");"
   ]
  },
  {
   "cell_type": "markdown",
   "id": "d5923fa8-3bfe-4a00-86fb-6dcdbb888b93",
   "metadata": {},
   "source": [
    "### Two Dimensions Data Representation"
   ]
  },
  {
   "cell_type": "code",
   "execution_count": null,
   "id": "6fbc5049-d8dd-4126-9bf5-926c6369c50a",
   "metadata": {},
   "outputs": [],
   "source": [
    "# New figure.\n",
    "fig, ax = plt.subplots()\n",
    "\n",
    "# Scatter plot.\n",
    "ax.plot(df['alcohol'], df['pH'], '.')\n",
    "\n",
    "# Set axis labels.\n",
    "ax.set_xlabel('Alcohol');\n",
    "ax.set_ylabel('Ph');"
   ]
  },
  {
   "cell_type": "code",
   "execution_count": null,
   "id": "f9395e52-9dfb-41cd-849a-c36fc7ecc899",
   "metadata": {},
   "outputs": [],
   "source": [
    "# Seaborn is great for creating complex plots with one command.\n",
    "sns.lmplot(x='alcohol', y='pH', hue='quality', data=df, fit_reg=False, height=10, aspect=1.5, palette=\"Set2\")"
   ]
  },
  {
   "cell_type": "code",
   "execution_count": null,
   "id": "1008e81f-75bb-4b50-8800-5043dd8582d1",
   "metadata": {},
   "outputs": [],
   "source": [
    "# Count Plot \n",
    "sns.countplot(x='quality',data=df, palette=\"Set2\")"
   ]
  },
  {
   "cell_type": "code",
   "execution_count": null,
   "id": "55af23c9-6c43-4464-b73c-c8c3bd27c6b5",
   "metadata": {},
   "outputs": [],
   "source": [
    "# Heatmap Visulation Dataset\n",
    "plt.figure(figsize=(12,12))\n",
    "sns.heatmap(data=df.corr(),annot=True,cmap=\"flare\")\n",
    "plt.show()"
   ]
  },
  {
   "cell_type": "code",
   "execution_count": null,
   "id": "ddf95141-9cce-49be-924b-0fed50439ef7",
   "metadata": {},
   "outputs": [],
   "source": [
    "# Segregate the data.\n",
    "bad = df[df['quality'] == 'bad']\n",
    "medium = df[df['quality'] == 'medium']\n",
    "good = df[df['quality'] == 'good']\n",
    "\n",
    "# New plot.\n",
    "fig, ax = plt.subplots()\n",
    "\n",
    "# Scatter plots.\n",
    "ax.scatter(bad['alcohol'], bad['pH'], label='Bad')\n",
    "ax.scatter(medium['alcohol'], medium['pH'], label='Medium')\n",
    "ax.scatter(good['alcohol'], good['pH'], label='Good')\n",
    "\n",
    "\n",
    "# Show the legend.\n",
    "ax.set_xlabel('Alcohol')\n",
    "ax.set_ylabel('pH')\n",
    "ax.legend();"
   ]
  },
  {
   "cell_type": "code",
   "execution_count": null,
   "id": "16a01773-08be-4ac6-8be2-1f3a74299e51",
   "metadata": {},
   "outputs": [],
   "source": [
    "# How the segregation works.\n",
    "df['quality'] == 'bad'"
   ]
  },
  {
   "cell_type": "code",
   "execution_count": null,
   "id": "07851fe9-b830-4d27-9df8-99c92e5d818a",
   "metadata": {},
   "outputs": [],
   "source": [
    "df[df['quality'] == 'bad'].head()"
   ]
  },
  {
   "cell_type": "markdown",
   "id": "1f62db59-397e-428c-88fb-efa7cc55ac56",
   "metadata": {},
   "source": [
    "### Using groupby()"
   ]
  },
  {
   "cell_type": "code",
   "execution_count": null,
   "id": "8affe045-3177-4c3d-8c93-d705b46b8ba9",
   "metadata": {},
   "outputs": [],
   "source": [
    "# New plot.\n",
    "fig, ax = plt.subplots()\n",
    "\n",
    "# Using pandas groupby().\n",
    "for quality, data in df.groupby('quality'):\n",
    "    ax.scatter(data['alcohol'], data['pH'], label=quality)\n",
    "\n",
    "# Show the legend.\n",
    "ax.set_xlabel('Alcohol')\n",
    "ax.set_ylabel('pH')\n",
    "ax.legend();"
   ]
  },
  {
   "cell_type": "code",
   "execution_count": null,
   "id": "e71ead05-21ab-4c42-937a-26b5cd6a4045",
   "metadata": {},
   "outputs": [],
   "source": [
    "# Group by typically takes a categorical variable.\n",
    "x = df.groupby('quality')\n",
    "x"
   ]
  },
  {
   "cell_type": "code",
   "execution_count": null,
   "id": "b12c4aff-68bb-4eab-a868-a5fb99b739c1",
   "metadata": {},
   "outputs": [],
   "source": [
    "# Pivot tables.\n",
    "x.mean()"
   ]
  },
  {
   "cell_type": "code",
   "execution_count": null,
   "id": "3f6b0989-0b09-4f1f-a5ea-7ed5307b15cf",
   "metadata": {},
   "outputs": [],
   "source": [
    "# Looping through groupby().\n",
    "for i, j in x:\n",
    "    print()\n",
    "    print(f\"i is: '{i}'\")\n",
    "    print(f\"j is:\\n{j[:3]}\")\n",
    "    print()"
   ]
  },
  {
   "cell_type": "markdown",
   "id": "3b10ea2a-7f65-4880-9358-d8a6a352585a",
   "metadata": {},
   "source": [
    "## Test and Train Split"
   ]
  },
  {
   "cell_type": "code",
   "execution_count": null,
   "id": "8e47a867-ee14-457d-a47b-ec944952905d",
   "metadata": {},
   "outputs": [],
   "source": [
    "# Split the data frame in two.\n",
    "train, test = mod.train_test_split(df)"
   ]
  },
  {
   "cell_type": "code",
   "execution_count": null,
   "id": "cb388661-3bda-416b-970a-18824a6a5cc3",
   "metadata": {},
   "outputs": [],
   "source": [
    "# Show some training data.\n",
    "train.head()"
   ]
  },
  {
   "cell_type": "code",
   "execution_count": null,
   "id": "8b075249-da08-4358-84f4-d658a3562018",
   "metadata": {},
   "outputs": [],
   "source": [
    "# The indices of the train array.\n",
    "train.index"
   ]
  },
  {
   "cell_type": "code",
   "execution_count": null,
   "id": "e9a6ae01-c0e3-4017-8fe6-458fd99609b9",
   "metadata": {},
   "outputs": [],
   "source": [
    "# Show some testing data.\n",
    "test.head()"
   ]
  },
  {
   "cell_type": "code",
   "execution_count": null,
   "id": "27a4e273-c6e8-40bd-8a28-e825275a706a",
   "metadata": {},
   "outputs": [],
   "source": [
    "test.index.size"
   ]
  },
  {
   "cell_type": "markdown",
   "id": "90c9247d-5227-461e-8d52-d0a2629e929a",
   "metadata": {},
   "source": [
    "## Two Dimensions: Test Train Split"
   ]
  },
  {
   "cell_type": "code",
   "execution_count": null,
   "id": "77820ce9-2f35-4e9f-9932-99cbf4180614",
   "metadata": {},
   "outputs": [],
   "source": [
    "# Segregate the data.\n",
    "bad = df[df['quality'] == 'bad']\n",
    "medium = df[df['quality'] == 'medium']\n",
    "good = df[df['quality'] == 'good']\n",
    "\n",
    "# New plot.\n",
    "fig, ax = plt.subplots()\n",
    "\n",
    "# Scatter plots.\n",
    "ax.scatter(bad['alcohol'], bad['pH'], marker='o' , label='Bad')\n",
    "ax.scatter(medium['alcohol'], medium['pH'], marker='o', label='Medium')\n",
    "ax.scatter(good['alcohol'], good['pH'], marker='o', label='Good')\n",
    "\n",
    "# Scatter plot for testing data.\n",
    "ax.scatter(test['alcohol'], test['pH'], marker='x', label='Test data')\n",
    "\n",
    "# Show the legend.\n",
    "ax.set_xlabel('Alcohol')\n",
    "ax.set_ylabel('pH')\n",
    "ax.legend();"
   ]
  },
  {
   "cell_type": "markdown",
   "id": "d24ae7b7-2cde-4492-a424-0eca7e9f67ba",
   "metadata": {},
   "source": [
    "## Two Dimensions: Inputs and outputs"
   ]
  },
  {
   "cell_type": "code",
   "execution_count": null,
   "id": "230be2ba-507a-4764-b5b7-e7ffd8a75ee5",
   "metadata": {},
   "outputs": [],
   "source": [
    "# Give the inputs and outputs convenient names.\n",
    "inputs, outputs = train[['alcohol', 'pH']], train['quality']"
   ]
  },
  {
   "cell_type": "code",
   "execution_count": null,
   "id": "d9b77c42-3abf-4931-b6ab-58b516b5f6e0",
   "metadata": {},
   "outputs": [],
   "source": [
    "# Peek at the inputs.\n",
    "inputs.head()"
   ]
  },
  {
   "cell_type": "code",
   "execution_count": null,
   "id": "263e8c7b-e13c-425d-9a08-9b7993bc6bec",
   "metadata": {},
   "outputs": [],
   "source": [
    "# Peek at the outputs.\n",
    "outputs.head()"
   ]
  },
  {
   "cell_type": "markdown",
   "id": "1ee7b34d-6d17-4836-afb7-5f7402e4abfc",
   "metadata": {},
   "source": [
    "## Two Dimensions: Logistic regression\n",
    "https://scikit-learn.org/stable/modules/generated/sklearn.linear_model.LogisticRegression.html\n",
    "***"
   ]
  },
  {
   "cell_type": "code",
   "execution_count": null,
   "id": "47cf7545-75f0-41e8-8d29-663c5f2d62ee",
   "metadata": {},
   "outputs": [],
   "source": [
    "# Create a new classifier.\n",
    "lre = lm.LogisticRegression(random_state=0)\n",
    "\n",
    "# Train the classifier on our data.\n",
    "lre.fit(inputs, outputs)"
   ]
  },
  {
   "cell_type": "code",
   "execution_count": null,
   "id": "2ed24461-c078-4be0-8952-d9fed5711ccc",
   "metadata": {},
   "outputs": [],
   "source": [
    "# Ask the classifier to classify the test data.\n",
    "predictions = lre.predict(test[['alcohol', 'pH']])"
   ]
  },
  {
   "cell_type": "code",
   "execution_count": null,
   "id": "b8384c77-56f3-4065-af0a-3d8bdfaaf96c",
   "metadata": {},
   "outputs": [],
   "source": [
    "# Eyeball the misclassifications.\n",
    "predictions == test['quality']"
   ]
  },
  {
   "cell_type": "code",
   "execution_count": null,
   "id": "18673608-9963-4f4b-ad54-a814b212cca6",
   "metadata": {},
   "outputs": [],
   "source": [
    "# What proportion were correct?\n",
    "lre.score(test[['alcohol', 'pH']], test['quality'])"
   ]
  },
  {
   "cell_type": "markdown",
   "id": "82c21744-b6d1-47d4-a8d2-8b9097ffb98e",
   "metadata": {},
   "source": [
    "## Two Dimensions: Misclassified"
   ]
  },
  {
   "cell_type": "code",
   "execution_count": null,
   "id": "1fe7e048-80ab-4fae-9e74-457471bcc213",
   "metadata": {},
   "outputs": [],
   "source": [
    "# Append a column to the test data frame with the predictions.\n",
    "test['predicted'] = predictions\n",
    "test.head()"
   ]
  },
  {
   "cell_type": "code",
   "execution_count": null,
   "id": "58000352-01fc-4bb7-b1a2-6e5eed2ec6f1",
   "metadata": {},
   "outputs": [],
   "source": [
    "# Show the misclassified data.\n",
    "misclass = test[test['predicted'] != test['quality']]\n",
    "misclass"
   ]
  },
  {
   "cell_type": "code",
   "execution_count": null,
   "id": "c48f2edf-8159-4280-b4c3-6bfb620d761a",
   "metadata": {},
   "outputs": [],
   "source": [
    "# Eyeball the descriptive statistics for the species.\n",
    "train.groupby('quality').mean()"
   ]
  },
  {
   "cell_type": "code",
   "execution_count": null,
   "id": "74bfe21b-9e64-473f-a858-aa69b344a874",
   "metadata": {},
   "outputs": [],
   "source": [
    "# New plot.\n",
    "fig, ax = plt.subplots()\n",
    "\n",
    "# Plot the training data\n",
    "for quality, data in df.groupby('quality'):\n",
    "    ax.scatter(data['alcohol'], data['pH'], label=quality)\n",
    "    \n",
    "# Plot misclassified.\n",
    "ax.scatter(misclass['alcohol'], misclass['pH'], s=200, facecolor='none', edgecolor='r', label='Misclassified')\n",
    "\n",
    "# Show the legend.\n",
    "ax.set_xlabel('Alcohol')\n",
    "ax.set_ylabel('PH')\n",
    "ax.legend();"
   ]
  },
  {
   "cell_type": "markdown",
   "id": "cd0e5fd3-85f0-4a00-b46f-99a4f90c17f6",
   "metadata": {},
   "source": [
    "## Seperating Bad Quality\n",
    "\n",
    "From [Wikipedia](https://en.wikipedia.org/wiki/Logistic_regression):    ${L} = \\log(b) \\frac{p}{1-p} = \\beta_0 + \\beta_1 x_{1} + \\beta_0 + \\beta_2 x_{2}$\n",
    "\n",
    "\n",
    "***"
   ]
  },
  {
   "cell_type": "code",
   "execution_count": null,
   "id": "d1161808-f605-4102-a086-c9c196dceb00",
   "metadata": {},
   "outputs": [],
   "source": [
    "# Give the inputs and outputs convenient names.\n",
    "inputs = train[['alcohol', 'pH']]\n",
    "\n",
    "# Set 'versicolor' and 'virginica' to 'other'.\n",
    "outputs = train['quality'].apply(lambda x: x if x == 'bad' else 'other')\n",
    "\n",
    "# Eyeball outputs\n",
    "outputs.unique()"
   ]
  },
  {
   "cell_type": "code",
   "execution_count": null,
   "id": "b6e0de3a-b573-4c76-b8cf-4b42706fc552",
   "metadata": {},
   "outputs": [],
   "source": [
    "# Create a new classifier.\n",
    "lre = lm.LogisticRegression(random_state=0)\n",
    "\n",
    "# Train the classifier on our data.\n",
    "lre.fit(inputs, outputs)"
   ]
  },
  {
   "cell_type": "code",
   "execution_count": null,
   "id": "9f8c6d49-64f5-4f3b-afd2-0c0c6b56fbf3",
   "metadata": {},
   "outputs": [],
   "source": [
    "actual = test['quality'].apply(lambda x: x if x == 'bad' else 'other')\n",
    "\n",
    "# What proportion were correct?\n",
    "lre.score(test[['alcohol', 'pH']], actual)"
   ]
  },
  {
   "cell_type": "markdown",
   "id": "2940a3c1-9f73-4d97-aa6b-e98a39bf1dac",
   "metadata": {},
   "source": [
    "## Using All Possible Inputs\n",
    "https://scikit-learn.org/stable/modules/generated/sklearn.linear_model.LogisticRegression.html\n",
    "***"
   ]
  },
  {
   "cell_type": "code",
   "execution_count": null,
   "id": "1b75bfdb-76b6-4256-8c67-1e4c16da7d52",
   "metadata": {},
   "outputs": [],
   "source": [
    "# Load the Wine Quality data set from a URL.\n",
    "df = pd.read_csv(\"https://archive.ics.uci.edu/ml/machine-learning-databases/wine-quality/winequality-red.csv\", sep=';')"
   ]
  },
  {
   "cell_type": "code",
   "execution_count": null,
   "id": "10bad5e8-3354-45a8-b396-3cbaf59fc41b",
   "metadata": {},
   "outputs": [],
   "source": [
    "# Split the data frame in two.\n",
    "train, test = mod.train_test_split(df)"
   ]
  },
  {
   "cell_type": "code",
   "execution_count": null,
   "id": "1f5761ab-5889-4f6b-93fb-6b11b204eb6e",
   "metadata": {},
   "outputs": [],
   "source": [
    "# Use all eleven possible inputs.\n",
    "inputs, outputs = train[['fixed acidity', 'volatile acidity', 'citric acid', 'residual sugar', 'chlorides', 'free sulfur dioxide', 'total sulfur dioxide', 'density', 'pH', 'sulphates', 'alcohol']], train['quality']"
   ]
  },
  {
   "cell_type": "code",
   "execution_count": null,
   "id": "716a03d7-20db-4ec5-adc4-73aa8a6be192",
   "metadata": {},
   "outputs": [],
   "source": [
    "# Create a new classifier.\n",
    "lre = lm.LogisticRegression(random_state=0)\n",
    "\n",
    "# Train the classifier on our data.\n",
    "lre.fit(inputs, outputs)"
   ]
  },
  {
   "cell_type": "code",
   "execution_count": null,
   "id": "a0f29bc5-7026-4727-829b-66d186614e27",
   "metadata": {},
   "outputs": [],
   "source": [
    "# Ask the classifier to classify the test data.\n",
    "predictions = lre.predict(test[['fixed acidity', 'volatile acidity', 'citric acid', 'residual sugar', 'chlorides', 'free sulfur dioxide', 'total sulfur dioxide', 'density', 'pH', 'sulphates', 'alcohol']])\n",
    "predictions"
   ]
  },
  {
   "cell_type": "code",
   "execution_count": null,
   "id": "d0ecf8c1-fc7b-4af3-a125-ee4c6f879219",
   "metadata": {},
   "outputs": [],
   "source": [
    "# Eyeball the misclassifications.\n",
    "(predictions == test['quality']).value_counts()"
   ]
  },
  {
   "cell_type": "code",
   "execution_count": null,
   "id": "dc34949f-d986-4d5f-811f-6ede03f9ac4d",
   "metadata": {},
   "outputs": [],
   "source": [
    "# What proportion were correct?\n",
    "lre.score(test[['fixed acidity', 'volatile acidity', 'citric acid', 'residual sugar', 'chlorides', 'free sulfur dioxide', 'total sulfur dioxide', 'density', 'pH', 'sulphates', 'alcohol']], test['quality'])"
   ]
  },
  {
   "cell_type": "markdown",
   "id": "aeb2b704-541c-41f7-b3a4-e3b2b5f2b2e9",
   "metadata": {},
   "source": [
    "## $\\kappa$ Nearest Neighbours Classifier\n",
    "https://scikit-learn.org/stable/modules/generated/sklearn.neighbors.KNeighborsClassifier.html\n",
    "***"
   ]
  },
  {
   "cell_type": "code",
   "execution_count": null,
   "id": "d541adcc-2897-47fb-b049-b058b0cee191",
   "metadata": {},
   "outputs": [],
   "source": [
    "# Load the Wine Quality data set from a URL.\n",
    "df = pd.read_csv(\"https://archive.ics.uci.edu/ml/machine-learning-databases/wine-quality/winequality-red.csv\", sep=';')"
   ]
  },
  {
   "cell_type": "code",
   "execution_count": null,
   "id": "ac7eac73-f407-4f43-b52e-7e8add45964c",
   "metadata": {},
   "outputs": [],
   "source": [
    "# Split the data frame in two.\n",
    "train, test = mod.train_test_split(df)"
   ]
  },
  {
   "cell_type": "code",
   "execution_count": null,
   "id": "3960094a-b0d9-4d53-b868-881f7fb4089a",
   "metadata": {},
   "outputs": [],
   "source": [
    "# Use all eleven possible inputs.\n",
    "inputs, outputs = train[['fixed acidity', 'volatile acidity', 'citric acid', 'residual sugar', 'chlorides', 'free sulfur dioxide', 'total sulfur dioxide', 'density', 'pH', 'sulphates', 'alcohol']], train['quality']"
   ]
  },
  {
   "cell_type": "code",
   "execution_count": null,
   "id": "903353ce-d13b-47fd-8c22-b075508ad9f7",
   "metadata": {},
   "outputs": [],
   "source": [
    "# Classifier.\n",
    "knn = nei.KNeighborsClassifier()"
   ]
  },
  {
   "cell_type": "code",
   "execution_count": null,
   "id": "f141b08a-7843-4dc2-bedd-572322d87b43",
   "metadata": {},
   "outputs": [],
   "source": [
    "# Fit.\n",
    "knn.fit(inputs, outputs)"
   ]
  },
  {
   "cell_type": "code",
   "execution_count": null,
   "id": "ed28d1a4-aabd-474e-b216-6e1a136b037a",
   "metadata": {},
   "outputs": [],
   "source": [
    "# Test.\n",
    "knn.score(test[['fixed acidity', 'volatile acidity', 'citric acid', 'residual sugar', 'chlorides', 'free sulfur dioxide', 'total sulfur dioxide', 'density', 'pH', 'sulphates', 'alcohol']],  test['quality'])"
   ]
  },
  {
   "cell_type": "code",
   "execution_count": null,
   "id": "8d6d6268-8430-494e-941f-9e4ce99a330b",
   "metadata": {},
   "outputs": [],
   "source": [
    "# Predict.\n",
    "predictions = lre.predict(test[['fixed acidity', 'volatile acidity', 'citric acid', 'residual sugar', 'chlorides', 'free sulfur dioxide', 'total sulfur dioxide', 'density', 'pH', 'sulphates', 'alcohol']])\n",
    "(predictions == test['quality']).value_counts()"
   ]
  },
  {
   "cell_type": "code",
   "execution_count": null,
   "id": "c421fc43-0bd7-4c36-a334-d83a96ec2a24",
   "metadata": {},
   "outputs": [],
   "source": [
    "# The score is just the accuracy in this case.\n",
    "(predictions == test['quality']).value_counts(normalize=True)"
   ]
  },
  {
   "cell_type": "markdown",
   "id": "b5d35ed9-cabb-4cce-b173-57fabee960d9",
   "metadata": {},
   "source": [
    "## Cross validation\n",
    "https://scikit-learn.org/stable/modules/cross_validation.html\n",
    "***"
   ]
  },
  {
   "cell_type": "code",
   "execution_count": null,
   "id": "f46189ab-bdb3-4916-b40f-55dc26abb73d",
   "metadata": {},
   "outputs": [],
   "source": [
    "knn = nei.KNeighborsClassifier()\n",
    "scores = mod.cross_val_score(knn, df[['fixed acidity', 'volatile acidity', 'citric acid', 'residual sugar', 'chlorides', 'free sulfur dioxide', 'total sulfur dioxide', 'density', 'pH', 'sulphates', 'alcohol']], df['quality'])\n",
    "scores"
   ]
  },
  {
   "cell_type": "code",
   "execution_count": null,
   "id": "cd5b4b6f-e9d9-48f6-b380-17a3d77d10bd",
   "metadata": {},
   "outputs": [],
   "source": [
    "print(f\"Mean: {scores.mean()} \\t Standard Deviation: {scores.std()}\")"
   ]
  },
  {
   "cell_type": "code",
   "execution_count": null,
   "id": "da467ad8-952d-41ca-834e-e89e501b4e4f",
   "metadata": {},
   "outputs": [],
   "source": [
    "lre = lm.LogisticRegression(random_state=0)\n",
    "scores = mod.cross_val_score(lre, df[['fixed acidity', 'volatile acidity', 'citric acid', 'residual sugar', 'chlorides', 'free sulfur dioxide', 'total sulfur dioxide', 'density', 'pH', 'sulphates', 'alcohol']], df['quality'])\n",
    "scores"
   ]
  },
  {
   "cell_type": "code",
   "execution_count": null,
   "id": "07056807-b647-4901-b9bf-1a87a2015391",
   "metadata": {},
   "outputs": [],
   "source": [
    "print(f\"Mean: {scores.mean()} \\t Standard Deviation: {scores.std()}\")"
   ]
  },
  {
   "cell_type": "markdown",
   "id": "e9788d54-75f7-4727-9261-eef37afdb9af",
   "metadata": {},
   "source": [
    "## Basic Example of a Sckit-Learn Algorithm\n",
    "\n",
    "***"
   ]
  },
  {
   "cell_type": "code",
   "execution_count": null,
   "id": "535af576-9e8b-4e39-84d2-bfff8b87743d",
   "metadata": {},
   "outputs": [],
   "source": []
  },
  {
   "cell_type": "code",
   "execution_count": null,
   "id": "50c4567c-be48-4c0b-98e2-bbc902864b95",
   "metadata": {},
   "outputs": [],
   "source": []
  },
  {
   "cell_type": "code",
   "execution_count": null,
   "id": "41434b21-9a92-432b-b17d-eb076f715cc0",
   "metadata": {},
   "outputs": [],
   "source": []
  },
  {
   "cell_type": "code",
   "execution_count": null,
   "id": "5d76f9c2-d3f8-4406-b4fe-d538ca0cf701",
   "metadata": {},
   "outputs": [],
   "source": []
  },
  {
   "cell_type": "code",
   "execution_count": null,
   "id": "3ec97c46-a48e-42b1-967c-403fef2cf8ef",
   "metadata": {},
   "outputs": [],
   "source": []
  },
  {
   "cell_type": "markdown",
   "id": "7fd2d769-ccb6-4663-b35b-e1dc4e5301ba",
   "metadata": {},
   "source": [
    "## References\n",
    "1. DataQuest \"Scikit-learn Tutorial: Machine Learning in Python\" https://www.dataquest.io/blog/sci-kit-learn-tutorial/\n",
    "\n",
    "2. \n",
    "\n",
    "3. "
   ]
  },
  {
   "cell_type": "markdown",
   "id": "bb758a1b-057d-4c44-9cf9-afc9d8af121f",
   "metadata": {},
   "source": [
    "***\n",
    "\n",
    "## End"
   ]
  }
 ],
 "metadata": {
  "kernelspec": {
   "display_name": "Python 3",
   "language": "python",
   "name": "python3"
  },
  "language_info": {
   "codemirror_mode": {
    "name": "ipython",
    "version": 3
   },
   "file_extension": ".py",
   "mimetype": "text/x-python",
   "name": "python",
   "nbconvert_exporter": "python",
   "pygments_lexer": "ipython3",
   "version": "3.8.8"
  }
 },
 "nbformat": 4,
 "nbformat_minor": 5
}
