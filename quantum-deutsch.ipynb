{
 "cells": [
  {
   "cell_type": "markdown",
   "id": "8bc7d329-beb4-47b9-a378-526730a046df",
   "metadata": {},
   "source": [
    "# Quantum Computing and Classical Computing\n",
    "\n",
    "\n",
    "***"
   ]
  },
  {
   "cell_type": "markdown",
   "id": "a75e1cfb-0d19-4c7b-ad2a-9fe54f665884",
   "metadata": {},
   "source": [
    "This notebook is a clear and concise comparison of Quantum Computing and Classical Computing and an explanation of [Deutsch’s algorithm](https://qiskit.org/textbook/ch-algorithms/deutsch-jozsa.html) and code simulating it using [qiskit](https://qiskit.org/). "
   ]
  },
  {
   "cell_type": "markdown",
   "id": "49057093-b19c-49c4-a28d-e5dd77211c8c",
   "metadata": {
    "tags": []
   },
   "source": [
    "## What is Quantum Computing?"
   ]
  },
  {
   "cell_type": "markdown",
   "id": "c273e073-098c-4dc3-b456-fd7dd2a68c0c",
   "metadata": {},
   "source": [
    "Quantum computation is the extension of classical computation to the processing of quantum information, using quantum mechanical phenomena.\n",
    "\n",
    "Quantum computers are machines that use properties of quantum physics to store data and perform computations. Quantum computers use qubits as a basic unit of memory, these bits have the same restrictions as normal bits do, they can store only a single binary piece of information and can only ever give an output of 0 or 1. They can extremely outperform classical computers and have massive advantages for certain tasks where they could vastly outperform even our best supercomputers.\n",
    "For example, if you entangle qubits, you can solve problems that classical computers cannot. For example, crack any common security system such as 128-bits AES encryption in seconds, where a supercomputer today would take millions of years to do the same job."
   ]
  },
  {
   "cell_type": "markdown",
   "id": "322923ea-6042-4413-bfcb-0b52096c5e7c",
   "metadata": {},
   "source": [
    "### How does a Quantum Computer work?"
   ]
  },
  {
   "cell_type": "markdown",
   "id": "282e170c-0f9a-41d3-8273-103d3810fdd7",
   "metadata": {},
   "source": [
    "Quantum computers use qubits, the qubits can be 0 and 1 (any two states) at the same time, it is this that gives the quantum computer its superpower. Qubit can be anything that exhibits quantum behaviour electron, photon, or nucleus. For example, in a magnetic field an electron can be in two states spin up spin down which can be addressed as 1 or 0. Quantum objects can be in both states at the same time, when you measure the spin, it’ll be spin up or spin down. And once it measured the other information is lost, but before you measure it, the electron can exist in a Quantum Super Position. This is what makes Quantum Computers fast as they can perform calculations as they can use these quantum super positions available to them with the qubits."
   ]
  },
  {
   "cell_type": "markdown",
   "id": "d5fcba44-82a3-4c3a-a400-aa4d6ef34905",
   "metadata": {
    "tags": []
   },
   "source": [
    "### What makes Quantum Computers different from a Classical Computer?"
   ]
  },
  {
   "cell_type": "markdown",
   "id": "2116ad2f-98ad-4a24-bd24-9ca3120036ea",
   "metadata": {},
   "source": [
    "Quantum Computers and Classical computers have the same restriction once a state is measured it can either be 0 or 1. However Quantum Computers use qubits which can be any two states at the same time until measured meaning they can be in two places at the same time (superpositions) whereas bits in a Classical computer can only be 0 or 1.\n",
    "For example, 2 classical bits can be $ 2^2 $ configurations at a time which is 4 possible combinations, out of which you can use just one. Two qubits in superposition can be in all those 4 combinations at once.\n",
    "\n",
    "<center>$ 2^2 $</center>\n",
    "\n",
    "| Classical Computer Bit      | Quantum Computer Qubit |\n",
    "| ----------- | ----------- |\n",
    "| 00   | 1000       |\n",
    "| 01   | 0100        |\n",
    "| 10   | 0010        |\n",
    "| 11   | 0001        |\n",
    "\n",
    "Quantum Entanglement is a property Quantum Computer Qubits can have that Classical Computers bits don’t have. This is when 2 qubits can react to a change in the other's state instantly, this means when measuring just one entangled qubit, you can directly trace properties of its partner. The simplest system to display quantum entanglement is the system of two qubits.\n",
    "\n",
    "| Classical Computer Bit State      | Quantum Computer Qubit State |\n",
    "| ----------- | ----------- |\n",
    "| 1 or 0   | $ \\frac{1}{\\sqrt{2}} (|00> + |11>)$       |\n",
    "\n",
    "Quantum Computers can solve problems much faster than classical computers because of Quantum gates. A classical computer uses normal logic gates (AND, OR & NOT), it takes a simple set of inputs and produces one output. Quantum gates manipulates an input using quantum superpositions to pick the correct answer. For example, when it comes to solving a maze, a Classical Computer will test each path one at a time until it finds the exit. A Quantum Computer can solve the maze in one go because the state of the qubit will keep changing to solve the maze until it exits the maze.\n",
    "<div style=\"text-align:center\"><img src=\"https://community.cadence.com/resized-image/__size/640x0/__key/communityserver-blogs-components-weblogfiles/00-00-00-01-10/7510.Maze_2D00_01.png\" />\n",
    "    <p style=\"text-align:center\">\n",
    "        On the left, a solution solved by classical compute. On the right, the same maze solved using quantum computing. Link to [Image](https://community.cadence.com/cadence_blogs_8/b/on-the-beat/posts/quantum-computing-101)\n",
    "    </p>\n",
    "</div>\n"
   ]
  },
  {
   "cell_type": "markdown",
   "id": "43ea7144-6d38-4f86-b1cf-01a08ec1335c",
   "metadata": {},
   "source": [
    "## What is Classical Computing?"
   ]
  },
  {
   "cell_type": "markdown",
   "id": "8de01c4e-a074-40c2-b2b5-5cee9339fad8",
   "metadata": {},
   "source": [
    "## Comparison of Quantum Computing and Classical Computing\n",
    "\n",
    "***\n",
    "\n",
    "Classical computers manipulate ones and zeroes to crunch through operations, but quantum computers use quantum bits or qubits. "
   ]
  },
  {
   "cell_type": "code",
   "execution_count": null,
   "id": "798b081a-08a8-4c25-ab23-8851becd9010",
   "metadata": {},
   "outputs": [],
   "source": []
  },
  {
   "cell_type": "markdown",
   "id": "5b9f8d71-6885-4811-9d54-5dda4488ed35",
   "metadata": {},
   "source": [
    "## General Info\n",
    "\n",
    "- quantum physics\n",
    "- photon\n",
    "- entagle quibits\n",
    "- Quantum Super Position\n"
   ]
  },
  {
   "cell_type": "markdown",
   "id": "d562c1f3-824d-47fe-80ba-669f21aa7ad6",
   "metadata": {},
   "source": [
    "# Deutsch's Algorithm\n",
    "\n",
    "***"
   ]
  },
  {
   "cell_type": "code",
   "execution_count": 1,
   "id": "aa129450-a995-4bb6-bbb6-fa7a6535c3a9",
   "metadata": {},
   "outputs": [],
   "source": [
    "# Qiskit import.\n",
    "import qiskit"
   ]
  },
  {
   "cell_type": "code",
   "execution_count": 2,
   "id": "bd91d1b5-5b78-430f-a791-f53de4e213d5",
   "metadata": {},
   "outputs": [],
   "source": [
    "# Aer simulator.\n",
    "import qiskit.providers.aer as aer"
   ]
  },
  {
   "cell_type": "code",
   "execution_count": 3,
   "id": "570fcc72-9d66-4ebe-ad20-46b0c8149636",
   "metadata": {},
   "outputs": [],
   "source": [
    "# Diagrams.\n",
    "import matplotlib.pyplot as plt"
   ]
  },
  {
   "cell_type": "code",
   "execution_count": 4,
   "id": "e9b9a4b5-cc1d-4f81-bdfd-2ae186801460",
   "metadata": {},
   "outputs": [],
   "source": [
    "# Change pyplot style.\n",
    "plt.style.use('ggplot')"
   ]
  },
  {
   "cell_type": "markdown",
   "id": "419a18bf-1ec6-41d9-98c2-159f6234c397",
   "metadata": {},
   "source": [
    "## Constant zero function"
   ]
  },
  {
   "cell_type": "code",
   "execution_count": 5,
   "id": "0e7af820-83cc-48da-ab5b-8566c0483946",
   "metadata": {},
   "outputs": [],
   "source": [
    "# Create a quantum circuit.\n",
    "circuit = qiskit.QuantumCircuit(2,1)"
   ]
  },
  {
   "cell_type": "code",
   "execution_count": 6,
   "id": "89a3e562-037c-459a-b75d-d4ba416332a1",
   "metadata": {},
   "outputs": [
    {
     "data": {
      "text/plain": [
       "<qiskit.circuit.instructionset.InstructionSet at 0x7fa1d1ff3b20>"
      ]
     },
     "execution_count": 6,
     "metadata": {},
     "output_type": "execute_result"
    }
   ],
   "source": [
    "# Initialise the first qubit to 0\n",
    "circuit.initialize([1,0], 0)"
   ]
  },
  {
   "cell_type": "code",
   "execution_count": 7,
   "id": "e6ce721f-ebe3-4832-9818-9e518b89fd3a",
   "metadata": {},
   "outputs": [
    {
     "data": {
      "text/plain": [
       "<qiskit.circuit.instructionset.InstructionSet at 0x7fa1d20c8e50>"
      ]
     },
     "execution_count": 7,
     "metadata": {},
     "output_type": "execute_result"
    }
   ],
   "source": [
    "# Initialise the last qubit to 1\n",
    "circuit.initialize([0,1], 1)"
   ]
  },
  {
   "cell_type": "code",
   "execution_count": 8,
   "id": "3c01fb43-9a95-4d6f-a4a2-884360fc6553",
   "metadata": {},
   "outputs": [
    {
     "data": {
      "text/plain": [
       "<qiskit.circuit.instructionset.InstructionSet at 0x7fa1d1ff33d0>"
      ]
     },
     "execution_count": 8,
     "metadata": {},
     "output_type": "execute_result"
    }
   ],
   "source": [
    "# Apply a Hadamard gate to first qubit.\n",
    "circuit.h(0)"
   ]
  },
  {
   "cell_type": "code",
   "execution_count": 9,
   "id": "1a20533e-39a0-4283-b2a9-598f7842beb6",
   "metadata": {},
   "outputs": [
    {
     "data": {
      "text/plain": [
       "<qiskit.circuit.instructionset.InstructionSet at 0x7fa1d2014070>"
      ]
     },
     "execution_count": 9,
     "metadata": {},
     "output_type": "execute_result"
    }
   ],
   "source": [
    "# Apply a Hadamard gate to first qubit.\n",
    "circuit.h(1)"
   ]
  },
  {
   "cell_type": "code",
   "execution_count": 10,
   "id": "6fd7ab4e-30ed-4385-9361-f571b3546162",
   "metadata": {},
   "outputs": [
    {
     "data": {
      "text/plain": [
       "<qiskit.circuit.instructionset.InstructionSet at 0x7fa1d2014370>"
      ]
     },
     "execution_count": 10,
     "metadata": {},
     "output_type": "execute_result"
    }
   ],
   "source": [
    "# Identify gate.\n",
    "circuit.i(1)"
   ]
  },
  {
   "cell_type": "code",
   "execution_count": 11,
   "id": "bb635083-be73-4076-858a-bcb3976c2d0e",
   "metadata": {},
   "outputs": [
    {
     "data": {
      "text/plain": [
       "<qiskit.circuit.instructionset.InstructionSet at 0x7fa1d2014610>"
      ]
     },
     "execution_count": 11,
     "metadata": {},
     "output_type": "execute_result"
    }
   ],
   "source": [
    "# Apply another Hadamard gate to the first qubit.\n",
    "circuit.h(0)"
   ]
  },
  {
   "cell_type": "code",
   "execution_count": 12,
   "id": "09c578c3-1a09-4f7e-9d2d-4ecf7fd1d322",
   "metadata": {},
   "outputs": [
    {
     "data": {
      "text/plain": [
       "<qiskit.circuit.instructionset.InstructionSet at 0x7fa2942e6eb0>"
      ]
     },
     "execution_count": 12,
     "metadata": {},
     "output_type": "execute_result"
    }
   ],
   "source": [
    "# Measure the first qubit.\n",
    "circuit.measure(0,0)"
   ]
  },
  {
   "cell_type": "code",
   "execution_count": 13,
   "id": "8d026b2c-f5ff-4f02-b2cf-74d42fe0de69",
   "metadata": {},
   "outputs": [
    {
     "data": {
      "image/png": "[encoded data removed]",
      "text/plain": [
       "<Figure size 589.054x368.424 with 1 Axes>"
      ]
     },
     "execution_count": 13,
     "metadata": {},
     "output_type": "execute_result"
    }
   ],
   "source": [
    "circuit.draw(output='mpl', scale=1.8)"
   ]
  },
  {
   "cell_type": "code",
   "execution_count": 14,
   "id": "a0f3346d-578c-434d-86cc-c456ee741368",
   "metadata": {},
   "outputs": [],
   "source": [
    "# Create a simulation insatnce.\n",
    "simulator = aer.QasmSimulator()"
   ]
  },
  {
   "cell_type": "code",
   "execution_count": 15,
   "id": "408681f4-51e9-46b5-9a21-eb2444e93964",
   "metadata": {},
   "outputs": [],
   "source": [
    "# Complete the circuit in the simulator.\n",
    "compcircuit = qiskit.transpile(circuit, simulator)"
   ]
  },
  {
   "cell_type": "code",
   "execution_count": 16,
   "id": "5e025efa-d8fc-472a-b1be-17f8b395963d",
   "metadata": {},
   "outputs": [],
   "source": [
    "# Simulate the circuit 1000 times.\n",
    "job = simulator.run(compcircuit, shots=1000)"
   ]
  },
  {
   "cell_type": "code",
   "execution_count": 17,
   "id": "c3ba67bd-1e1a-41af-a4a9-327dd09a4d88",
   "metadata": {},
   "outputs": [],
   "source": [
    "# Get the results.\n",
    "results = job.result()"
   ]
  },
  {
   "cell_type": "code",
   "execution_count": 20,
   "id": "ba0e012c-ce8d-4bbd-86e6-2615bd878191",
   "metadata": {},
   "outputs": [],
   "source": [
    "# SHow the results count.\n",
    "counts  = results.get_counts()"
   ]
  },
  {
   "cell_type": "code",
   "execution_count": 21,
   "id": "9d513caa-19d5-4b99-b217-42cef17f224e",
   "metadata": {},
   "outputs": [
    {
     "data": {
      "image/png": "[encoded data removed]",
      "text/plain": [
       "<Figure size 72x288 with 1 Axes>"
      ]
     },
     "execution_count": 21,
     "metadata": {},
     "output_type": "execute_result"
    }
   ],
   "source": [
    "# Display histogram\n",
    "qiskit.visualization.plot_histogram(counts, figsize=(1, 4))"
   ]
  },
  {
   "cell_type": "markdown",
   "id": "e5e72860-c8b5-4c44-9189-59382ef1b40d",
   "metadata": {},
   "source": [
    "## Constant one function\n",
    "\n",
    "***"
   ]
  },
  {
   "cell_type": "code",
   "execution_count": 22,
   "id": "059964c0-14c9-4e82-986d-a2e314fe6ffd",
   "metadata": {
    "jp-MarkdownHeadingCollapsed": true,
    "tags": []
   },
   "outputs": [
    {
     "data": {
      "image/png": "[encoded data removed]",
      "text/plain": [
       "<Figure size 589.054x368.424 with 1 Axes>"
      ]
     },
     "execution_count": 22,
     "metadata": {},
     "output_type": "execute_result"
    }
   ],
   "source": [
    "# Create a quantum circuit.\n",
    "circuit = qiskit.QuantumCircuit(2, 1)\n",
    "\n",
    "# Initialise the first qubit to |0>.\n",
    "circuit.initialize([1, 0], 0)\n",
    "\n",
    "# Initialise the second qubit to |1>.\n",
    "circuit.initialize([0, 1], 1)\n",
    "\n",
    "# Apply a Hadamard gate to each qubit.\n",
    "circuit.h((0, 1))\n",
    "\n",
    "# X gate.\n",
    "circuit.x(1)\n",
    "\n",
    "# Apply another Hadamard gate to the first qubit.\n",
    "circuit.h(0)\n",
    "\n",
    "# Measure the first qubit.\n",
    "circuit.measure(0, 0)\n",
    "\n",
    "# Draw the circuit.\n",
    "circuit.draw(output='mpl', scale=1.8)"
   ]
  },
  {
   "cell_type": "code",
   "execution_count": null,
   "id": "26370175-18c1-4f36-9762-255fc0c227f3",
   "metadata": {},
   "outputs": [],
   "source": []
  },
  {
   "cell_type": "code",
   "execution_count": null,
   "id": "1c32f80f-99e4-4c43-bf2c-5f98d9f81052",
   "metadata": {},
   "outputs": [],
   "source": []
  },
  {
   "cell_type": "markdown",
   "id": "51fc6c27-d17d-4a42-b585-ba57605790cd",
   "metadata": {},
   "source": [
    "## Preliminaries\n",
    "***"
   ]
  },
  {
   "cell_type": "markdown",
   "id": "d3a33656-ae40-4940-9c6a-e3399fe20378",
   "metadata": {},
   "source": [
    "### Qubits\n",
    "\n",
    "$|0 \\rangle = \\begin{bmatrix} 1 \\\\ 0 \\end{bmatrix}$\n",
    "\n",
    "$|1 \\rangle = \\begin{bmatrix} 0 \\\\ 1 \\end{bmatrix}$\n",
    "\n",
    "$|\\psi \\rangle = \\begin{bmatrix} \\alpha \\\\ \\beta \\end{bmatrix}$\n",
    "\n",
    "$\\alpha = a + bi \\qquad \\beta = c + di \\qquad a,b,c,d \\in \\mathbb{R} $\n",
    "\n",
    "$ \\alpha^2 + \\beta^2 =1 $"
   ]
  },
  {
   "cell_type": "markdown",
   "id": "2c7c5e7a-fa29-4cf7-b1fc-9ad083ffbbb5",
   "metadata": {},
   "source": [
    "<br>\n",
    "\n",
    "### Gates\n",
    "\n",
    "***\n",
    "\n",
    "$ H = \\begin{bmatrix} \\frac{1}{\\sqrt{2}} & \\frac{1}{\\sqrt{2}} \\\\ \\frac{1}{\\sqrt{2}} & -\\frac{1}{\\sqrt{2}} \\end{bmatrix} = \\frac{1}{\\sqrt{2}} \\begin{bmatrix} 1 & 1 \\\\ 1 & -1 \\end{bmatrix} $"
   ]
  },
  {
   "cell_type": "code",
   "execution_count": null,
   "id": "5c56c6ae-1152-411b-a92c-0ca6ef8dbf80",
   "metadata": {},
   "outputs": [],
   "source": []
  },
  {
   "cell_type": "code",
   "execution_count": null,
   "id": "7b3748c7-d939-4972-9bfa-156857d6e1fe",
   "metadata": {},
   "outputs": [],
   "source": []
  },
  {
   "cell_type": "markdown",
   "id": "2f618064-0e75-4ac7-8b5a-05f6fd0394d2",
   "metadata": {
    "jp-MarkdownHeadingCollapsed": true,
    "tags": []
   },
   "source": [
    "## References\n",
    "1. Qiskit \"Deutsch-Jozsa Algorithm - Introduction\" https://qiskit.org/textbook/ch-algorithms/deutsch-jozsa.html\n",
    "\n",
    "2. NewScientist - https://www.newscientist.com/question/what-is-a-quantum-computer/\n",
    "\n",
    "3. https://physicsworld.com/a/quantum-technology-why-the-future-is-already-on-its-way/\n",
    "\n",
    "4. https://www.ncbi.nlm.nih.gov/pmc/articles/PMC33891/\n",
    "\n",
    "5. Computer Science  \"How N qubits corresponds to $ 2^N $ bits?\" https://cs.stackexchange.com/questions/87870/how-n-qubits-correspond-to-2n-bits"
   ]
  },
  {
   "cell_type": "markdown",
   "id": "a4b25d10-3d05-4ed5-851f-02946ab4b99d",
   "metadata": {},
   "source": [
    "***\n",
    "\n",
    "## End"
   ]
  }
 ],
 "metadata": {
  "kernelspec": {
   "display_name": "Python 3 (ipykernel)",
   "language": "python",
   "name": "python3"
  },
  "language_info": {
   "codemirror_mode": {
    "name": "ipython",
    "version": 3
   },
   "file_extension": ".py",
   "mimetype": "text/x-python",
   "name": "python",
   "nbconvert_exporter": "python",
   "pygments_lexer": "ipython3",
   "version": "3.9.7"
  }
 },
 "nbformat": 4,
 "nbformat_minor": 5
}
