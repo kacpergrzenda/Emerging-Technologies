{
 "cells": [
  {
   "cell_type": "markdown",
   "id": "8bc7d329-beb4-47b9-a378-526730a046df",
   "metadata": {},
   "source": [
    "# Quantum Computing and Classical Computing\n",
    "\n",
    "\n",
    "***"
   ]
  },
  {
   "cell_type": "markdown",
   "id": "a75e1cfb-0d19-4c7b-ad2a-9fe54f665884",
   "metadata": {},
   "source": [
    "This notebook is a clear and concise comparison of Quantum Computing and Classical Computing and an explanation of [Deutsch’s algorithm](https://qiskit.org/textbook/ch-algorithms/deutsch-jozsa.html) and code simulating it using [qiskit](https://qiskit.org/). "
   ]
  },
  {
   "cell_type": "markdown",
   "id": "49057093-b19c-49c4-a28d-e5dd77211c8c",
   "metadata": {},
   "source": [
    "## What is Quantum Computing?"
   ]
  },
  {
   "cell_type": "markdown",
   "id": "43ea7144-6d38-4f86-b1cf-01a08ec1335c",
   "metadata": {},
   "source": [
    "## What is Classical Computing?"
   ]
  },
  {
   "cell_type": "markdown",
   "id": "8de01c4e-a074-40c2-b2b5-5cee9339fad8",
   "metadata": {},
   "source": [
    "## Comparison of Quantum Computing and Classical Computing\n",
    "\n",
    "***\n",
    "\n",
    "Classical computers manipulate ones and zeroes to crunch through operations, but quantum computers use quantum bits or qubits."
   ]
  },
  {
   "cell_type": "code",
   "execution_count": null,
   "id": "798b081a-08a8-4c25-ab23-8851becd9010",
   "metadata": {},
   "outputs": [],
   "source": []
  },
  {
   "cell_type": "code",
   "execution_count": null,
   "id": "4d535c60-e68f-48c3-8456-7f3e24f0b601",
   "metadata": {},
   "outputs": [],
   "source": []
  },
  {
   "cell_type": "code",
   "execution_count": null,
   "id": "f105b1ea-d5b1-4a9b-b9f9-d0f3d092fbb5",
   "metadata": {},
   "outputs": [],
   "source": []
  },
  {
   "cell_type": "code",
   "execution_count": null,
   "id": "e2ac102d-29b0-4252-b0c3-589877cb7422",
   "metadata": {},
   "outputs": [],
   "source": []
  },
  {
   "cell_type": "code",
   "execution_count": null,
   "id": "aa129450-a995-4bb6-bbb6-fa7a6535c3a9",
   "metadata": {},
   "outputs": [],
   "source": []
  },
  {
   "cell_type": "markdown",
   "id": "2f618064-0e75-4ac7-8b5a-05f6fd0394d2",
   "metadata": {},
   "source": [
    "## References\n",
    "1. Qiskit \"Deutsch-Jozsa Algorithm - Introduction\" https://qiskit.org/textbook/ch-algorithms/deutsch-jozsa.html\n",
    "\n",
    "2.\n",
    "\n",
    "3."
   ]
  },
  {
   "cell_type": "markdown",
   "id": "a4b25d10-3d05-4ed5-851f-02946ab4b99d",
   "metadata": {},
   "source": [
    "***\n",
    "\n",
    "## End"
   ]
  }
 ],
 "metadata": {
  "kernelspec": {
   "display_name": "Python 3",
   "language": "python",
   "name": "python3"
  },
  "language_info": {
   "codemirror_mode": {
    "name": "ipython",
    "version": 3
   },
   "file_extension": ".py",
   "mimetype": "text/x-python",
   "name": "python",
   "nbconvert_exporter": "python",
   "pygments_lexer": "ipython3",
   "version": "3.8.8"
  }
 },
 "nbformat": 4,
 "nbformat_minor": 5
}
