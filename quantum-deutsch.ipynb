{
 "cells": [
  {
   "cell_type": "markdown",
   "id": "8bc7d329-beb4-47b9-a378-526730a046df",
   "metadata": {},
   "source": [
    "# Quantum Computing and Classical Computing\n",
    "\n",
    "\n",
    "***"
   ]
  },
  {
   "cell_type": "markdown",
   "id": "a75e1cfb-0d19-4c7b-ad2a-9fe54f665884",
   "metadata": {},
   "source": [
    "This notebook is a clear and concise comparison of Quantum Computing and Classical Computing and an explanation of [Deutsch’s algorithm](https://qiskit.org/textbook/ch-algorithms/deutsch-jozsa.html) and code simulating it using [qiskit](https://qiskit.org/). "
   ]
  },
  {
   "cell_type": "markdown",
   "id": "11195b0c-66b9-41fe-af52-faffdafd02eb",
   "metadata": {},
   "source": [
    "## What is Classical Computing?"
   ]
  },
  {
   "cell_type": "markdown",
   "id": "6d0428f3-7ffb-47e4-bfa4-ede6492cc83b",
   "metadata": {},
   "source": [
    "Classical computers operate by bits which is either a 0 or 1, these are two different states that represent different information stored in the bit. Logic gates can be used to change the state of a bit. Classical computers such as phones that we use daily process tasks by taking bits as input information, and then by using transistors which process the information stored by the bits (0 or 1) using logic gates they output information."
   ]
  },
  {
   "cell_type": "markdown",
   "id": "49057093-b19c-49c4-a28d-e5dd77211c8c",
   "metadata": {
    "tags": []
   },
   "source": [
    "## What is Quantum Computing?"
   ]
  },
  {
   "cell_type": "markdown",
   "id": "c273e073-098c-4dc3-b456-fd7dd2a68c0c",
   "metadata": {},
   "source": [
    "Quantum computation is the extension of classical computation to the processing of quantum information, using quantum mechanical phenomena.\n",
    "\n",
    "Quantum computers are machines that use properties of quantum physics to store data and perform computations. Quantum computers use qubits as a basic unit of memory, these bits have the same restrictions as normal bits do, they can store only a single binary piece of information and can only ever give an output of 0 or 1. They can extremely outperform classical computers and have massive advantages for certain tasks where they could vastly outperform even our best supercomputers.\n",
    "For example, if you entangle qubits, you can solve problems that classical computers cannot. For example, crack any common security system such as 128-bits AES encryption in seconds, where a supercomputer today would take millions of years to do the same job."
   ]
  },
  {
   "cell_type": "markdown",
   "id": "322923ea-6042-4413-bfcb-0b52096c5e7c",
   "metadata": {},
   "source": [
    "### How does a Quantum Computer work?"
   ]
  },
  {
   "cell_type": "markdown",
   "id": "282e170c-0f9a-41d3-8273-103d3810fdd7",
   "metadata": {},
   "source": [
    "Quantum computers use qubits, the qubits can be 0 and 1 (any two states) at the same time, it is this that gives the quantum computer its superpower. Qubit can be anything that exhibits quantum behaviour electron, photon, or nucleus. For example, in a magnetic field an electron can be in two states spin up spin down which can be addressed as 1 or 0. Quantum objects can be in both states at the same time, when you measure the spin, it’ll be spin up or spin down. And once it measured the other information is lost, but before you measure it, the electron can exist in a Quantum Super Position. This is what makes Quantum Computers fast as they can perform calculations as they can use these quantum super positions available to them with the qubits."
   ]
  },
  {
   "cell_type": "markdown",
   "id": "d5fcba44-82a3-4c3a-a400-aa4d6ef34905",
   "metadata": {
    "tags": []
   },
   "source": [
    "### What makes Quantum Computers different from a Classical Computer?"
   ]
  },
  {
   "cell_type": "markdown",
   "id": "2116ad2f-98ad-4a24-bd24-9ca3120036ea",
   "metadata": {},
   "source": [
    "Quantum Computers and Classical computers have the same restriction once a state is measured it can either be 0 or 1. However Quantum Computers use qubits which can be any two states at the same time until measured meaning they can be in two places at the same time (superpositions) whereas bits in a Classical computer can only be 0 or 1.\n",
    "For example, 2 classical bits can be $ 2^2 $ configurations at a time which is 4 possible combinations, out of which you can use just one. Two qubits in superposition can be in all those 4 combinations at once.\n",
    "\n",
    "<center>$ 2^2 $</center>\n",
    "\n",
    "| Classical Computer Bit      | Quantum Computer Qubit |\n",
    "| ----------- | ----------- |\n",
    "| 00   | 1000       |\n",
    "| 01   | 0100        |\n",
    "| 10   | 0010        |\n",
    "| 11   | 0001        |\n",
    "\n",
    "Quantum Entanglement is a property Quantum Computer Qubits can have that Classical Computers bits don’t have. This is when 2 qubits can react to a change in the other's state instantly, this means when measuring just one entangled qubit, you can directly trace properties of its partner. The simplest system to display quantum entanglement is the system of two qubits.\n",
    "\n",
    "| Classical Computer Bit State      | Quantum Computer Qubit State |\n",
    "| ----------- | ----------- |\n",
    "| 1 or 0   | $ \\frac{1}{\\sqrt{2}} (|00> + |11>)$       |\n",
    "\n",
    "Quantum Computers can solve problems much faster than classical computers because of Quantum gates. A classical computer uses normal logic gates (AND, OR & NOT), it takes a simple set of inputs and produces one output. Quantum gates manipulates an input using quantum superpositions to pick the correct answer. For example, when it comes to solving a maze, a Classical Computer will test each path one at a time until it finds the exit. A Quantum Computer can solve the maze in one go because the state of the qubit will keep changing to solve the maze until it exits the maze.\n",
    "<center>\n",
    "<div style=\"text-align:center\"><img src=\"https://community.cadence.com/resized-image/__size/640x0/__key/communityserver-blogs-components-weblogfiles/00-00-00-01-10/7510.Maze_2D00_01.png\" />    \n",
    "</div>\n",
    "</center>    \n",
    "On the left, a solution solved by classical compute. On the right, the same maze solved using quantum computing. Link to [Image](https://community.cadence.com/cadence_blogs_8/b/on-the-beat/posts/quantum-computing-101)"
   ]
  },
  {
   "cell_type": "markdown",
   "id": "d562c1f3-824d-47fe-80ba-669f21aa7ad6",
   "metadata": {},
   "source": [
    "# Deutsch's Algorithm\n",
    "\n",
    "***"
   ]
  },
  {
   "cell_type": "markdown",
   "id": "b623e1cf-a263-4220-9f79-3cbeed133770",
   "metadata": {},
   "source": [
    "Deutsch algorithm is a quantum computation that addresses state problem, a Boolean function that maps an input bit which can be 0 or 1 to an output bit which can be 0 or 1. The problem in this function can be constant meaning f(0) has same value as f(1). This function can also be balanced meaning that both values of the function occur, an example of this would be f(0) being 1 and f(1) being 0 or other way around."
   ]
  },
  {
   "cell_type": "markdown",
   "id": "90014bc7-f6a8-4976-b6c8-8eca3cb31a3d",
   "metadata": {},
   "source": [
    "|     Balanced     |     Constant     |\n",
    "|     -----------     |     -----------     |\n",
    "|      f(0) = 1 & f(1) = 0      |      f(0)= 1 & f(1) = 1      |\n",
    "|      f(0) = 0 & f(1) = 1      |      f(0)= 0 & f(1) = 0   |"
   ]
  },
  {
   "cell_type": "markdown",
   "id": "b3f92405-5da7-4315-9d87-7dffa31d651d",
   "metadata": {},
   "source": [
    "David Deutsch developed a circuit that performs that problem, it uses a gate called an oracle. The oracle works when two qubits (x and y) which can be 0 or 1 are input into the circuit, one of the qubits that is input exits as the same state (e.g., if it enters as 0 leaves as 0 state) it acts as a control. The other qubit might change, if control f(0) output is 0 the qubit doesn’t not change however if the control is f(1) the qubit will change state. The function is guaranteed to be either balanced or constant."
   ]
  },
  {
   "cell_type": "markdown",
   "id": "a67e79f1-1ca8-4eda-8af6-67a67e00a5fb",
   "metadata": {},
   "source": [
    "<center>\n",
    "$\\textbf{Input}$"
   ]
  },
  {
   "cell_type": "markdown",
   "id": "1b928f54-6bb9-401c-b9fb-55277bf591ef",
   "metadata": {},
   "source": [
    "<center>\n",
    "$ x,y  \\enspace  \\epsilon \\enspace  (0,1) $\n"
   ]
  },
  {
   "cell_type": "markdown",
   "id": "3a9bd153-d7df-401c-a8e4-ed8cdfa54b62",
   "metadata": {},
   "source": [
    "<center>\n",
    "$\\textbf{Oracle Gate}$"
   ]
  },
  {
   "cell_type": "markdown",
   "id": "5940a73e-b4e0-4862-a758-29a61e85bc88",
   "metadata": {},
   "source": [
    "<center>\n",
    "$ |x,y\\rangle \\rightarrow |x, y \\oplus f(x) \\rangle $"
   ]
  },
  {
   "cell_type": "markdown",
   "id": "11692a5d-1060-4f0c-81e5-6c078bdb72e4",
   "metadata": {},
   "source": [
    "<center>\n",
    "$\\textbf{Output}$"
   ]
  },
  {
   "cell_type": "markdown",
   "id": "6301e3f7-27cf-4097-88d1-490578ded984",
   "metadata": {},
   "source": [
    "<center>\n",
    "$|01\\rangle = \\begin{bmatrix} 0 \\\\ 1 \\\\ 0 \\\\ 0 \\end{bmatrix} \\begin{matrix} |00\\rangle \\\\ |01\\rangle \\\\ |10\\rangle \\\\ |11\\rangle \\end{matrix}$"
   ]
  },
  {
   "cell_type": "markdown",
   "id": "2313d4dd-2654-4f4a-8e4e-96a12adea505",
   "metadata": {},
   "source": [
    "We can view how this process of the function above occurs looking at a matrix, the matrix below represents how the qubits change state when the control state is either f(0) or f(1)."
   ]
  },
  {
   "cell_type": "markdown",
   "id": "939bcea8-e54c-4c2a-9ccd-319041c6080c",
   "metadata": {},
   "source": [
    "<center>\n",
    "$ 𝑥,𝑦 \\enspace 𝜖 \\enspace (0,1) \\rightarrow \\begin{bmatrix} 1-f(0) & f(0) & 0 & 0 \\\\ f(0) & 1-f(0) & 0 & 0 \\\\ 0 & 0 & 1-f(1) & f(1) \\\\ 0 & 0 & f(1) & 1-f(1) \\end{bmatrix} \\rightarrow \\begin{bmatrix} 1 & 0 & 0 & 0 \\\\ 0 & 1 & 0 & 0 \\\\ 0 & 0 & 0 & 1 \\\\ 0 & 0 & 1 & 0 \\end{bmatrix} \\begin{bmatrix} 0 \\\\ 1 \\\\ 0 \\\\ 0 \\end{bmatrix} = \\begin{matrix} |00\\rangle \\\\ |01\\rangle \\\\ |10\\rangle \\\\ |11\\rangle \\end{matrix} $"
   ]
  },
  {
   "cell_type": "markdown",
   "id": "41f9862d-daa3-4f6e-8acb-b81383a6a295",
   "metadata": {},
   "source": [
    "<center>\n",
    "$\\textbf{Measurement of Qubits when positive or negative}$\n",
    "<br>\n",
    "There is different probability measuring qubits (x and y) when they’re different values 0 or 1. For example a qubit can be on a 0 or 1 state but also positive or negative, the measurement that is taking on a qubit that is positive or negative can have substantially different on the measurement. The examples below demonstrates how the measurement can be taking when in different state."
   ]
  },
  {
   "cell_type": "markdown",
   "id": "d21b4823-8026-4391-8bfc-31500425cdfb",
   "metadata": {},
   "source": [
    "<center>\n",
    "$\\textbf{Probability of measuring} |0\\rangle  \\textbf{ when in :} |+\\rangle$\n",
    "<br>\n",
    "$|\\langle 0 | + \\rangle |^2 = |\\langle 0 || + \\rangle |^2 = | \\begin{bmatrix} 1 & 0 \\end{bmatrix} \\begin{bmatrix} \\frac{1}{\\sqrt{2}} \\\\ \\frac{1}{\\sqrt{2}} \\end{bmatrix} |^2 = |(1)(\\frac{1}{\\sqrt{2}}) + (0)(\\frac{1}{\\sqrt{2}})|^2 = (\\frac{1}{\\sqrt{2}})^2 = \\frac{1}{2} $"
   ]
  },
  {
   "cell_type": "markdown",
   "id": "8240a398-5adf-42fa-a8e3-fe2d8d7e4553",
   "metadata": {},
   "source": [
    "<center>\n",
    "$\\textbf{Probability of measuring} |1\\rangle  \\textbf{ when in :} |-\\rangle$\n",
    "<br>\n",
    "$|\\langle 1 | - \\rangle |^2 = |\\langle 1 || - \\rangle |^2 = | \\begin{bmatrix} 0 & 1 \\end{bmatrix} \\begin{bmatrix} \\frac{1}{\\sqrt{2}} \\\\ -\\frac{1}{\\sqrt{2}} \\end{bmatrix} |^2 = |(0)(\\frac{1}{\\sqrt{2}}) + (1)(-\\frac{1}{\\sqrt{2}})|^2 = (-\\frac{1}{\\sqrt{2}})^2 = \\frac{1}{2}$"
   ]
  },
  {
   "cell_type": "markdown",
   "id": "128fda93-da2c-43e9-a439-fff4fd5a0d61",
   "metadata": {},
   "source": [
    "<center>\n",
    "$\\textbf{Probability of measuring} |1\\rangle  \\textbf{ when in :} |0\\rangle$\n",
    "<br>\n",
    "$|\\langle 1 | 0 \\rangle |^2 = = | \\begin{bmatrix} 0 & 1 \\end{bmatrix} \\begin{bmatrix} 1 \\\\ 0 \\end{bmatrix} |^2 = |(0)(1) + (1)(0)|^2 = 0$"
   ]
  },
  {
   "cell_type": "markdown",
   "id": "b494fcae-079c-4617-bd3b-39fff359cb1c",
   "metadata": {},
   "source": [
    "David Deutsche circuit works using the oracle and Hadamard gates, inputting two qubits (0 and 1) then apply the Hadamard gate to both qubits. The Hadamard gate changes the 0 state to a plus state and the 1 state to a minus state. The Psi $ \\psi $ which is the state for both qubits is plus minus, then these two qubits enter the oracle to query the value of the function which will output a balanced or constant state."
   ]
  },
  {
   "cell_type": "markdown",
   "id": "29a3b6c2-3a2a-4d61-a11c-1ff42f9da833",
   "metadata": {},
   "source": [
    "<center>\n",
    "$\\textbf{Hadamard  Gate}$"
   ]
  },
  {
   "cell_type": "markdown",
   "id": "4980bae6-c11d-4bf5-95e6-919118ffe2f0",
   "metadata": {},
   "source": [
    "<center>\n",
    "$ H | 0 \\rangle = \\frac{1}{\\sqrt{2}} \\begin{bmatrix} 1 & 1 \\\\ 1 & -1 \\end{bmatrix} \\begin{bmatrix} 1 \\\\ 0 \\end{bmatrix} = \\frac{1}{\\sqrt{2}} \\begin{bmatrix} 1 \\\\ 1 \\end{bmatrix} = \\begin{bmatrix} \\frac{1}{\\sqrt{2}} \\\\ \\frac{1}{\\sqrt{2}} \\end{bmatrix} = |+\\rangle $"
   ]
  },
  {
   "cell_type": "markdown",
   "id": "01fee873-e05c-4605-b604-b6128554fdf1",
   "metadata": {},
   "source": [
    "<center>\n",
    "$ H | 1 \\rangle = \\frac{1}{\\sqrt{2}} \\begin{bmatrix} 1 & 1 \\\\ 1 & -1 \\end{bmatrix} \\begin{bmatrix} 0 \\\\ 1 \\end{bmatrix} = \\frac{1}{\\sqrt{2}} \\begin{bmatrix} 1 \\\\ -1 \\end{bmatrix} = \\begin{bmatrix} \\frac{1}{\\sqrt{2}} \\\\ -\\frac{1}{\\sqrt{2}} \\end{bmatrix}  = |-\\rangle $"
   ]
  },
  {
   "cell_type": "markdown",
   "id": "9f429215-8a37-4abd-a3dd-b7607c46bd52",
   "metadata": {},
   "source": [
    "In the final step a measurement is taking only on the first qubit in whichever state 0 or 1 it is, this state corresponds to the outcome which will be balanced or constant. We can represent David Deutsch’s algorithm using qiskit, which is working with quantum computing we can solve this balanced or constant problem in one call, using the Hadamard gates and the oracle and visually represent this process with qiskit. As represented below we go through Balanced and Constant examples of Deutsch’s algorithm"
   ]
  },
  {
   "cell_type": "markdown",
   "id": "dd72ea39-feea-4ef7-9712-b8db8c50f262",
   "metadata": {},
   "source": [
    "# Deutsch's Algorithm using Qiskit\n",
    "![Qiskit](https://lh3.googleusercontent.com/AfwULYbTL-ew-QKTTgvFEw3ZkSa6T3lgslBVu-cJZ7vo0IrTldDAaDyK9JtJvxvkI_BlUK-AeP02pMJ8Lj0VUdIs5dCsHgk4Q1Y2wxaV)\n",
    "\n",
    "More information about Qiskit [here](https://qiskit.org/)."
   ]
  },
  {
   "cell_type": "code",
   "execution_count": 1,
   "id": "aa129450-a995-4bb6-bbb6-fa7a6535c3a9",
   "metadata": {},
   "outputs": [],
   "source": [
    "# Qiskit import.\n",
    "import qiskit"
   ]
  },
  {
   "cell_type": "code",
   "execution_count": 2,
   "id": "bd91d1b5-5b78-430f-a791-f53de4e213d5",
   "metadata": {},
   "outputs": [],
   "source": [
    "# Aer simulator.\n",
    "import qiskit.providers.aer as aer"
   ]
  },
  {
   "cell_type": "code",
   "execution_count": 3,
   "id": "570fcc72-9d66-4ebe-ad20-46b0c8149636",
   "metadata": {},
   "outputs": [],
   "source": [
    "# Diagrams.\n",
    "import matplotlib.pyplot as plt"
   ]
  },
  {
   "cell_type": "code",
   "execution_count": 4,
   "id": "e9b9a4b5-cc1d-4f81-bdfd-2ae186801460",
   "metadata": {},
   "outputs": [],
   "source": [
    "# Change pyplot style.\n",
    "plt.style.use('ggplot')"
   ]
  },
  {
   "cell_type": "markdown",
   "id": "419a18bf-1ec6-41d9-98c2-159f6234c397",
   "metadata": {},
   "source": [
    "## Constant: : $ f(0) = 0, f(1) = 0 $"
   ]
  },
  {
   "cell_type": "code",
   "execution_count": 5,
   "id": "0e7af820-83cc-48da-ab5b-8566c0483946",
   "metadata": {},
   "outputs": [],
   "source": [
    "# Create a quantum circuit.\n",
    "circuit = qiskit.QuantumCircuit(2,1)"
   ]
  },
  {
   "cell_type": "code",
   "execution_count": 6,
   "id": "89a3e562-037c-459a-b75d-d4ba416332a1",
   "metadata": {},
   "outputs": [
    {
     "data": {
      "text/plain": [
       "<qiskit.circuit.instructionset.InstructionSet at 0x7fc94d403520>"
      ]
     },
     "execution_count": 6,
     "metadata": {},
     "output_type": "execute_result"
    }
   ],
   "source": [
    "# Initialise the first qubit to 0\n",
    "circuit.initialize([1,0], 0)"
   ]
  },
  {
   "cell_type": "code",
   "execution_count": 7,
   "id": "e6ce721f-ebe3-4832-9818-9e518b89fd3a",
   "metadata": {},
   "outputs": [
    {
     "data": {
      "text/plain": [
       "<qiskit.circuit.instructionset.InstructionSet at 0x7fc94d403610>"
      ]
     },
     "execution_count": 7,
     "metadata": {},
     "output_type": "execute_result"
    }
   ],
   "source": [
    "# Initialise the last qubit to 1\n",
    "circuit.initialize([0,1], 1)"
   ]
  },
  {
   "cell_type": "code",
   "execution_count": 8,
   "id": "3c01fb43-9a95-4d6f-a4a2-884360fc6553",
   "metadata": {},
   "outputs": [
    {
     "data": {
      "text/plain": [
       "<qiskit.circuit.instructionset.InstructionSet at 0x7fc94d403a60>"
      ]
     },
     "execution_count": 8,
     "metadata": {},
     "output_type": "execute_result"
    }
   ],
   "source": [
    "# Apply a Hadamard gate to first qubit.\n",
    "circuit.h(0)"
   ]
  },
  {
   "cell_type": "code",
   "execution_count": 9,
   "id": "1a20533e-39a0-4283-b2a9-598f7842beb6",
   "metadata": {},
   "outputs": [
    {
     "data": {
      "text/plain": [
       "<qiskit.circuit.instructionset.InstructionSet at 0x7fc94d403d90>"
      ]
     },
     "execution_count": 9,
     "metadata": {},
     "output_type": "execute_result"
    }
   ],
   "source": [
    "# Apply a Hadamard gate to first qubit.\n",
    "circuit.h(1)"
   ]
  },
  {
   "cell_type": "code",
   "execution_count": 10,
   "id": "6fd7ab4e-30ed-4385-9361-f571b3546162",
   "metadata": {},
   "outputs": [
    {
     "data": {
      "text/plain": [
       "<qiskit.circuit.instructionset.InstructionSet at 0x7fc94d421100>"
      ]
     },
     "execution_count": 10,
     "metadata": {},
     "output_type": "execute_result"
    }
   ],
   "source": [
    "# Identify gate.\n",
    "circuit.i(1)"
   ]
  },
  {
   "cell_type": "code",
   "execution_count": 11,
   "id": "bb635083-be73-4076-858a-bcb3976c2d0e",
   "metadata": {},
   "outputs": [
    {
     "data": {
      "text/plain": [
       "<qiskit.circuit.instructionset.InstructionSet at 0x7fc94d421370>"
      ]
     },
     "execution_count": 11,
     "metadata": {},
     "output_type": "execute_result"
    }
   ],
   "source": [
    "# Apply another Hadamard gate to the first qubit.\n",
    "circuit.h(0)"
   ]
  },
  {
   "cell_type": "code",
   "execution_count": 12,
   "id": "09c578c3-1a09-4f7e-9d2d-4ecf7fd1d322",
   "metadata": {},
   "outputs": [
    {
     "data": {
      "text/plain": [
       "<qiskit.circuit.instructionset.InstructionSet at 0x7fc94d4212e0>"
      ]
     },
     "execution_count": 12,
     "metadata": {},
     "output_type": "execute_result"
    }
   ],
   "source": [
    "# Measure the first qubit.\n",
    "circuit.measure(0,0)"
   ]
  },
  {
   "cell_type": "code",
   "execution_count": 13,
   "id": "8d026b2c-f5ff-4f02-b2cf-74d42fe0de69",
   "metadata": {},
   "outputs": [
    {
     "data": {
      "image/png": "[encoded data removed]",
      "text/plain": [
       "<Figure size 589.054x368.424 with 1 Axes>"
      ]
     },
     "execution_count": 13,
     "metadata": {},
     "output_type": "execute_result"
    }
   ],
   "source": [
    "circuit.draw(output='mpl', scale=1.8)"
   ]
  },
  {
   "cell_type": "code",
   "execution_count": 14,
   "id": "a0f3346d-578c-434d-86cc-c456ee741368",
   "metadata": {},
   "outputs": [],
   "source": [
    "# Create a simulation insatnce.\n",
    "simulator = aer.QasmSimulator()"
   ]
  },
  {
   "cell_type": "code",
   "execution_count": 15,
   "id": "408681f4-51e9-46b5-9a21-eb2444e93964",
   "metadata": {},
   "outputs": [],
   "source": [
    "# Complete the circuit in the simulator.\n",
    "compcircuit = qiskit.transpile(circuit, simulator)"
   ]
  },
  {
   "cell_type": "code",
   "execution_count": 16,
   "id": "5e025efa-d8fc-472a-b1be-17f8b395963d",
   "metadata": {},
   "outputs": [],
   "source": [
    "# Simulate the circuit 1000 times.\n",
    "job = simulator.run(compcircuit, shots=1000)"
   ]
  },
  {
   "cell_type": "code",
   "execution_count": 17,
   "id": "c3ba67bd-1e1a-41af-a4a9-327dd09a4d88",
   "metadata": {},
   "outputs": [],
   "source": [
    "# Get the results.\n",
    "results = job.result()"
   ]
  },
  {
   "cell_type": "code",
   "execution_count": 18,
   "id": "ba0e012c-ce8d-4bbd-86e6-2615bd878191",
   "metadata": {},
   "outputs": [],
   "source": [
    "# SHow the results count.\n",
    "counts  = results.get_counts()"
   ]
  },
  {
   "cell_type": "code",
   "execution_count": 19,
   "id": "9d513caa-19d5-4b99-b217-42cef17f224e",
   "metadata": {},
   "outputs": [
    {
     "data": {
      "image/png": "[encoded data removed]",
      "text/plain": [
       "<Figure size 72x288 with 1 Axes>"
      ]
     },
     "execution_count": 19,
     "metadata": {},
     "output_type": "execute_result"
    }
   ],
   "source": [
    "# Display histogram\n",
    "qiskit.visualization.plot_histogram(counts, figsize=(1, 4))"
   ]
  },
  {
   "cell_type": "markdown",
   "id": "e5e72860-c8b5-4c44-9189-59382ef1b40d",
   "metadata": {},
   "source": [
    "## Constant: $ f(0) = 1, f(1) = 1 $\n",
    "\n",
    "***"
   ]
  },
  {
   "cell_type": "code",
   "execution_count": 20,
   "id": "059964c0-14c9-4e82-986d-a2e314fe6ffd",
   "metadata": {
    "jp-MarkdownHeadingCollapsed": true,
    "tags": []
   },
   "outputs": [
    {
     "data": {
      "image/png": "[encoded data removed]",
      "text/plain": [
       "<Figure size 589.054x368.424 with 1 Axes>"
      ]
     },
     "execution_count": 20,
     "metadata": {},
     "output_type": "execute_result"
    }
   ],
   "source": [
    "# Create a quantum circuit.\n",
    "circuit = qiskit.QuantumCircuit(2, 1)\n",
    "\n",
    "# Initialise the first qubit to |0>.\n",
    "circuit.initialize([1, 0], 0)\n",
    "\n",
    "# Initialise the second qubit to |1>.\n",
    "circuit.initialize([0, 1], 1)\n",
    "\n",
    "# Apply a Hadamard gate to each qubit.\n",
    "circuit.h((0, 1))\n",
    "\n",
    "# X gate.\n",
    "circuit.x(1)\n",
    "\n",
    "# Apply another Hadamard gate to the first qubit.\n",
    "circuit.h(0)\n",
    "\n",
    "# Measure the first qubit.\n",
    "circuit.measure(0, 0)\n",
    "\n",
    "# Draw the circuit.\n",
    "circuit.draw(output='mpl', scale=1.8)"
   ]
  },
  {
   "cell_type": "code",
   "execution_count": 21,
   "id": "26370175-18c1-4f36-9762-255fc0c227f3",
   "metadata": {},
   "outputs": [
    {
     "data": {
      "image/png": "[encoded data removed]",
      "text/plain": [
       "<Figure size 72x288 with 1 Axes>"
      ]
     },
     "execution_count": 21,
     "metadata": {},
     "output_type": "execute_result"
    }
   ],
   "source": [
    "# Create a simulation instance.\n",
    "simulator = aer.QasmSimulator()\n",
    "\n",
    "# Compile the circuit in the simluator.\n",
    "compcircuit = qiskit.transpile(circuit, simulator)\n",
    "\n",
    "# Simulate the circuit 1000 times.\n",
    "job = simulator.run(compcircuit, shots=1000)\n",
    "\n",
    "# Get the results.\n",
    "results = job.result()\n",
    "\n",
    "# Show the result counts.\n",
    "counts = results.get_counts()\n",
    "\n",
    "# Display histogram\n",
    "qiskit.visualization.plot_histogram(counts, figsize=(1, 4))"
   ]
  },
  {
   "cell_type": "markdown",
   "id": "20745a3d-c53f-446a-b411-f18e405c0c29",
   "metadata": {},
   "source": [
    "## Balanced: $ f(0) = 0, f(1) = 1 $\n",
    "\n",
    "***"
   ]
  },
  {
   "cell_type": "code",
   "execution_count": 22,
   "id": "5b0b256f-7670-477e-81c5-d1a965219711",
   "metadata": {},
   "outputs": [
    {
     "data": {
      "image/png": "[encoded data removed]",
      "text/plain": [
       "<Figure size 697.414x368.424 with 1 Axes>"
      ]
     },
     "execution_count": 22,
     "metadata": {},
     "output_type": "execute_result"
    }
   ],
   "source": [
    "# Create a quantum circuit.\n",
    "circuit = qiskit.QuantumCircuit(2, 1)\n",
    "\n",
    "# Initialise the first qubit to |0>.\n",
    "circuit.initialize([1, 0], 0)\n",
    "\n",
    "# Initialise the second qubit to |1>.\n",
    "circuit.initialize([0, 1], 1)\n",
    "\n",
    "# Apply a Hadamard gate to each qubit.\n",
    "circuit.h((0, 1))\n",
    "\n",
    "# CNOT gate.\n",
    "circuit.cnot(0, 1)\n",
    "\n",
    "# Apply another Hadamard gate to the first qubit.\n",
    "circuit.h(0)\n",
    "\n",
    "# Measure the first qubit.\n",
    "circuit.measure(0, 0)\n",
    "\n",
    "# Draw the circuit.\n",
    "circuit.draw(output='mpl', scale=1.8)"
   ]
  },
  {
   "cell_type": "code",
   "execution_count": 23,
   "id": "c47189a9-d9ed-40f1-8e7d-fd2c5006d32b",
   "metadata": {},
   "outputs": [
    {
     "data": {
      "image/png": "[encoded data removed]",
      "text/plain": [
       "<Figure size 72x288 with 1 Axes>"
      ]
     },
     "execution_count": 23,
     "metadata": {},
     "output_type": "execute_result"
    }
   ],
   "source": [
    "# Create a simulation instance.\n",
    "simulator = aer.QasmSimulator()\n",
    "\n",
    "# Compile the circuit in the simluator.\n",
    "compcircuit = qiskit.transpile(circuit, simulator)\n",
    "\n",
    "# Simulate the circuit 1000 times.\n",
    "job = simulator.run(compcircuit, shots=1000)\n",
    "\n",
    "# Get the results.\n",
    "results = job.result()\n",
    "\n",
    "# Show the result counts.\n",
    "counts = results.get_counts()\n",
    "\n",
    "# Display histogram\n",
    "qiskit.visualization.plot_histogram(counts, figsize=(1, 4))"
   ]
  },
  {
   "cell_type": "markdown",
   "id": "526d833e-ee59-4e59-9ee8-f8050b82f719",
   "metadata": {},
   "source": [
    "## Balanced: $ f(0) = 1, f(1) = 0 $\n",
    "\n",
    "***"
   ]
  },
  {
   "cell_type": "code",
   "execution_count": 24,
   "id": "5c56c6ae-1152-411b-a92c-0ca6ef8dbf80",
   "metadata": {},
   "outputs": [
    {
     "data": {
      "image/png": "[encoded data removed]",
      "text/plain": [
       "<Figure size 697.414x368.424 with 1 Axes>"
      ]
     },
     "execution_count": 24,
     "metadata": {},
     "output_type": "execute_result"
    }
   ],
   "source": [
    "# Create a quantum circuit.\n",
    "circuit = qiskit.QuantumCircuit(2, 1)\n",
    "\n",
    "# Initialise the first qubit to |0>.\n",
    "circuit.initialize([1, 0], 0)\n",
    "\n",
    "# Initialise the second qubit to |1>.\n",
    "circuit.initialize([0, 1], 1)\n",
    "\n",
    "# Apply a Hadamard gate to each qubit.\n",
    "circuit.h((0, 1))\n",
    "\n",
    "# CNOT gate.\n",
    "circuit.cnot(0, 1)\n",
    "\n",
    "# Apply x to second qubit.\n",
    "circuit.x(1)\n",
    "\n",
    "# Apply another Hadamard gate to the first qubit.\n",
    "circuit.h(0)\n",
    "\n",
    "# Measure the first qubit.\n",
    "circuit.measure(0, 0)\n",
    "\n",
    "# Draw the circuit.\n",
    "circuit.draw(output='mpl', scale=1.8)"
   ]
  },
  {
   "cell_type": "code",
   "execution_count": 25,
   "id": "7b3748c7-d939-4972-9bfa-156857d6e1fe",
   "metadata": {},
   "outputs": [
    {
     "data": {
      "image/png": "[encoded data removed]",
      "text/plain": [
       "<Figure size 72x288 with 1 Axes>"
      ]
     },
     "execution_count": 25,
     "metadata": {},
     "output_type": "execute_result"
    }
   ],
   "source": [
    "# Create a simulation instance.\n",
    "simulator = aer.QasmSimulator()\n",
    "\n",
    "# Compile the circuit in the simluator.\n",
    "compcircuit = qiskit.transpile(circuit, simulator)\n",
    "\n",
    "# Simulate the circuit 1000 times.\n",
    "job = simulator.run(compcircuit, shots=1000)\n",
    "\n",
    "# Get the results.\n",
    "results = job.result()\n",
    "\n",
    "# Show the result counts.\n",
    "counts = results.get_counts()\n",
    "\n",
    "# Display histogram\n",
    "qiskit.visualization.plot_histogram(counts, figsize=(1, 4))"
   ]
  },
  {
   "cell_type": "markdown",
   "id": "f6b0feb9-20ca-4f48-93d3-d1f84cb3e08e",
   "metadata": {},
   "source": [
    "## Deutsch's Algorithm with Random Function\n",
    "\n",
    "***"
   ]
  },
  {
   "cell_type": "code",
   "execution_count": 26,
   "id": "7a61a4fa-ab09-4eef-b606-b3975630604e",
   "metadata": {},
   "outputs": [],
   "source": [
    "# Qiskit itself\n",
    "import qiskit\n",
    "\n",
    "# Aer simulator.\n",
    "import qiskit.providers.aer as aer\n",
    "\n",
    "# Diagrams.\n",
    "import matplotlib.pyplot as plt\n",
    "\n",
    "# Random numbers.\n",
    "import random\n",
    "\n",
    "# Change pyplot style.\n",
    "plt.style.use('ggplot')"
   ]
  },
  {
   "cell_type": "code",
   "execution_count": 27,
   "id": "2d6b94f0-15a7-4d8a-8c34-3db4e1d6c84b",
   "metadata": {},
   "outputs": [],
   "source": [
    "# Return a random (part of) circuit - implementing the quantum oracle for f.\n",
    "def random_f():\n",
    "    # Create a circuit with 2 qubits, 1 classical bit.\n",
    "    circuit = qiskit.QuantumCircuit(2, 1)\n",
    "    \n",
    "    # Pick one of the four functions at random.\n",
    "    f_number = random.randint(1, 4)\n",
    "    \n",
    "    # 1: Constant 0 function. f(0) = f(1) = 0.\n",
    "    # 2: Constant 1 function. f(0) = f(1) = 1.\n",
    "    # 3: Balanced identity function. f(0) = 0, f(1) = 1.\n",
    "    # 4: Balanced not function. f(0) = 1, f(1) = 0.\n",
    "    \n",
    "    if f_number == 1:\n",
    "        # Apply Identity gate to second qubit.\n",
    "        circuit.i(1)\n",
    "    elif f_number == 2:\n",
    "        # Apply Pauli x gate to second qubit.\n",
    "        circuit.x(1)\n",
    "    elif f_number == 3:\n",
    "        # Apply CNOT gate to from first to second qubit.\n",
    "        circuit.cnot(0, 1)\n",
    "    elif f_number == 4:\n",
    "        # Apply CNOT gate to from first to second qubit.\n",
    "        circuit.cnot(0, 1)\n",
    "        # Apply Pauli x gate to second qubit.\n",
    "        circuit.x(1)\n",
    "    else:\n",
    "        print(\"Error!\")\n",
    "        \n",
    "    # Return the circuit.\n",
    "    return circuit"
   ]
  },
  {
   "cell_type": "markdown",
   "id": "08fef591-4d01-4523-9d0a-1d44da538ef5",
   "metadata": {},
   "source": [
    "### Create First Part of Circuit"
   ]
  },
  {
   "cell_type": "code",
   "execution_count": 28,
   "id": "45872f1d-a692-4ceb-be8a-8243707bffe3",
   "metadata": {},
   "outputs": [
    {
     "data": {
      "image/png": "[encoded data removed]",
      "text/plain": [
       "<Figure size 480.694x368.424 with 1 Axes>"
      ]
     },
     "execution_count": 28,
     "metadata": {},
     "output_type": "execute_result"
    }
   ],
   "source": [
    "# Create a quantum circuit.\n",
    "circuit = qiskit.QuantumCircuit(2, 1)\n",
    "\n",
    "# Initialise the first qubit to |0>.\n",
    "circuit.initialize([1, 0], 0)\n",
    "\n",
    "# Initialise the second qubit to |1>.\n",
    "circuit.initialize([0, 1], 1)\n",
    "\n",
    "# Apply a Hadamard gate to each qubit.\n",
    "circuit.h((0, 1))\n",
    "\n",
    "# Separate parts of circuit.\n",
    "circuit.barrier()\n",
    "\n",
    "# Draw the circuit.\n",
    "circuit.draw(output='mpl', scale=1.8)"
   ]
  },
  {
   "cell_type": "markdown",
   "id": "e550c0aa-8649-40d1-a759-196a4acdf1ac",
   "metadata": {},
   "source": [
    "### Create Second Part of Circuit"
   ]
  },
  {
   "cell_type": "code",
   "execution_count": 29,
   "id": "8fa0c0e5-8caf-4438-9b8a-eb16405606b4",
   "metadata": {},
   "outputs": [
    {
     "data": {
      "image/png": "[encoded data removed]",
      "text/plain": [
       "<Figure size 805.774x368.424 with 1 Axes>"
      ]
     },
     "execution_count": 29,
     "metadata": {},
     "output_type": "execute_result"
    }
   ],
   "source": [
    "# Append the random_f() circuit to circuit.\n",
    "circuit.compose(random_f(), inplace=True)\n",
    "\n",
    "# Separate parts of circuit.\n",
    "circuit.barrier()\n",
    "\n",
    "# Draw the circuit.\n",
    "circuit.draw(output='mpl', scale=1.8)"
   ]
  },
  {
   "cell_type": "markdown",
   "id": "ca94f92d-f993-462a-bad2-c74bb6928fde",
   "metadata": {},
   "source": [
    "### Create Third Part of Circuit"
   ]
  },
  {
   "cell_type": "code",
   "execution_count": 30,
   "id": "9f24b272-3377-4d4c-8718-e6eea2ed85ed",
   "metadata": {},
   "outputs": [
    {
     "data": {
      "image/png": "[encoded data removed]",
      "text/plain": [
       "<Figure size 1022.49x368.424 with 1 Axes>"
      ]
     },
     "execution_count": 30,
     "metadata": {},
     "output_type": "execute_result"
    }
   ],
   "source": [
    "# Apply another Hadamard gate to the first qubit.\n",
    "circuit.h(0)\n",
    "\n",
    "# Measure the first qubit.\n",
    "circuit.measure(0, 0)\n",
    "\n",
    "# Draw the circuit.\n",
    "circuit.draw(output='mpl', scale=1.8)"
   ]
  },
  {
   "cell_type": "markdown",
   "id": "993db254-3176-459f-87ed-806482389cf7",
   "metadata": {},
   "source": [
    "### Simulate and Decide"
   ]
  },
  {
   "cell_type": "code",
   "execution_count": 31,
   "id": "94e5406d-7886-444a-acea-206176a7201d",
   "metadata": {},
   "outputs": [
    {
     "data": {
      "image/png": "[encoded data removed]",
      "text/plain": [
       "<Figure size 72x288 with 1 Axes>"
      ]
     },
     "execution_count": 31,
     "metadata": {},
     "output_type": "execute_result"
    }
   ],
   "source": [
    "# Create a simulation instance.\n",
    "simulator = aer.QasmSimulator()\n",
    "\n",
    "# Compile the circuit in the simluator.\n",
    "compcircuit = qiskit.transpile(circuit, simulator)\n",
    "\n",
    "# Simulate the circuit 1000 times.\n",
    "job = simulator.run(compcircuit, shots=1000)\n",
    "\n",
    "# Get the results.\n",
    "results = job.result()\n",
    "\n",
    "# Show the result counts.\n",
    "counts = results.get_counts()\n",
    "\n",
    "# Display histogram\n",
    "qiskit.visualization.plot_histogram(counts, figsize=(1, 4))"
   ]
  },
  {
   "cell_type": "markdown",
   "id": "2f618064-0e75-4ac7-8b5a-05f6fd0394d2",
   "metadata": {
    "jp-MarkdownHeadingCollapsed": true,
    "tags": []
   },
   "source": [
    "## References\n",
    "1. Qiskit \"Deutsch-Jozsa Algorithm - Introduction\" https://qiskit.org/textbook/ch-algorithms/deutsch-jozsa.html\n",
    "\n",
    "2. NewScientist - https://www.newscientist.com/question/what-is-a-quantum-computer/\n",
    "\n",
    "3. https://physicsworld.com/a/quantum-technology-why-the-future-is-already-on-its-way/\n",
    "\n",
    "4. https://www.ncbi.nlm.nih.gov/pmc/articles/PMC33891/\n",
    "\n",
    "5. Computer Science  \"How N qubits corresponds to $ 2^N $ bits?\" https://cs.stackexchange.com/questions/87870/how-n-qubits-correspond-to-2n-bits\n",
    "\n",
    "6. Deutsch's Algorithm https://www.youtube.com/watch?v=LTftC-eTLM0&list=LL&index=1&t=573s"
   ]
  },
  {
   "cell_type": "markdown",
   "id": "a4b25d10-3d05-4ed5-851f-02946ab4b99d",
   "metadata": {},
   "source": [
    "***\n",
    "\n",
    "## End"
   ]
  }
 ],
 "metadata": {
  "kernelspec": {
   "display_name": "Python 3 (ipykernel)",
   "language": "python",
   "name": "python3"
  },
  "language_info": {
   "codemirror_mode": {
    "name": "ipython",
    "version": 3
   },
   "file_extension": ".py",
   "mimetype": "text/x-python",
   "name": "python",
   "nbconvert_exporter": "python",
   "pygments_lexer": "ipython3",
   "version": "3.9.7"
  }
 },
 "nbformat": 4,
 "nbformat_minor": 5
}
