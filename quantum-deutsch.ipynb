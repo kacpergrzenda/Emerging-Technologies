{
 "cells": [
  {
   "cell_type": "markdown",
   "id": "8bc7d329-beb4-47b9-a378-526730a046df",
   "metadata": {},
   "source": [
    "# Quantum Computing and Classical Computing\n",
    "\n",
    "\n",
    "***"
   ]
  },
  {
   "cell_type": "markdown",
   "id": "a75e1cfb-0d19-4c7b-ad2a-9fe54f665884",
   "metadata": {},
   "source": [
    "This notebook is a clear and concise comparison of Quantum Computing and Classical Computing and an explanation of [Deutsch’s algorithm](https://qiskit.org/textbook/ch-algorithms/deutsch-jozsa.html) and code simulating it using [qiskit](https://qiskit.org/). "
   ]
  },
  {
   "cell_type": "markdown",
   "id": "49057093-b19c-49c4-a28d-e5dd77211c8c",
   "metadata": {
    "tags": []
   },
   "source": [
    "## What is Quantum Computing?"
   ]
  },
  {
   "cell_type": "markdown",
   "id": "c273e073-098c-4dc3-b456-fd7dd2a68c0c",
   "metadata": {},
   "source": [
    "Quantum computation is the extension of classical computation to the processing of quantum information, using quantum mechanical phenomena.\n",
    "\n",
    "Quantum computers are machines that use properties of quantum physics to store data and perform computations. Quantum computers use qubits as a basic unit of memory, these bits have the same restrictions as normal bits do, they can store only a single binary piece of information and can only ever give an output of 0 or 1. They can extremely outperform classical computers and have massive advantages for certain tasks where they could vastly outperform even our best supercomputers.\n",
    "For example, if you entangle qubits, you can solve problems that classical computers cannot. For example, crack any common security system such as 128-bits AES encryption in seconds, where a supercomputer today would take millions of years to do the same job."
   ]
  },
  {
   "cell_type": "markdown",
   "id": "322923ea-6042-4413-bfcb-0b52096c5e7c",
   "metadata": {},
   "source": [
    "### How does a Quantum Computer work?"
   ]
  },
  {
   "cell_type": "markdown",
   "id": "282e170c-0f9a-41d3-8273-103d3810fdd7",
   "metadata": {},
   "source": [
    "Quantum computers use qubits, the qubits can be 0 and 1 (any two states) at the same time, it is this that gives the quantum computer its superpower. Qubit can be anything that exhibits quantum behaviour electron, photon, or nucleus. For example, in a magnetic field an electron can be in two states spin up spin down which can be addressed as 1 or 0. Quantum objects can be in both states at the same time, when you measure the spin, it’ll be spin up or spin down. And once it measured the other information is lost, but before you measure it, the electron can exist in a Quantum Super Position. This is what makes Quantum Computers fast as they can perform calculations as they can use these quantum super positions available to them with the qubits."
   ]
  },
  {
   "cell_type": "markdown",
   "id": "d5fcba44-82a3-4c3a-a400-aa4d6ef34905",
   "metadata": {
    "tags": []
   },
   "source": [
    "### What makes Quantum Computers different from a Classical Computer?"
   ]
  },
  {
   "cell_type": "markdown",
   "id": "2116ad2f-98ad-4a24-bd24-9ca3120036ea",
   "metadata": {},
   "source": [
    "Quantum Computers and Classical computers have the same restriction once a state is measured it can either be 0 or 1. However Quantum Computers use qubits which can be any two states at the same time until measured meaning they can be in two places at the same time (superpositions) whereas bits in a Classical computer can only be 0 or 1.\n",
    "For example, 2 classical bits can be $ 2^2 $ configurations at a time which is 4 possible combinations, out of which you can use just one. Two qubits in superposition can be in all those 4 combinations at once.\n",
    "\n",
    "<center>$ 2^2 $</center>\n",
    "\n",
    "| Classical Computer Bit      | Quantum Computer Qubit |\n",
    "| ----------- | ----------- |\n",
    "| 00   | 1000       |\n",
    "| 01   | 0100        |\n",
    "| 10   | 0010        |\n",
    "| 11   | 0001        |\n",
    "\n",
    "Quantum Entanglement is a property Quantum Computer Qubits can have that Classical Computers bits don’t have. This is when 2 qubits can react to a change in the other's state instantly, this means when measuring just one entangled qubit, you can directly trace properties of its partner. The simplest system to display quantum entanglement is the system of two qubits.\n",
    "\n",
    "| Classical Computer Bit State      | Quantum Computer Qubit State |\n",
    "| ----------- | ----------- |\n",
    "| 1 or 0   | $ \\frac{1}{\\sqrt{2}} (|00> + |11>)$       |\n",
    "\n",
    "Quantum Computers can solve problems much faster than classical computers because of Quantum gates. A classical computer uses normal logic gates (AND, OR & NOT), it takes a simple set of inputs and produces one output. Quantum gates manipulates an input using quantum superpositions to pick the correct answer. For example, when it comes to solving a maze, a Classical Computer will test each path one at a time until it finds the exit. A Quantum Computer can solve the maze in one go because the state of the qubit will keep changing to solve the maze until it exits the maze.\n",
    "<div style=\"text-align:center\"><img src=\"https://community.cadence.com/resized-image/__size/640x0/__key/communityserver-blogs-components-weblogfiles/00-00-00-01-10/7510.Maze_2D00_01.png\" />\n",
    "    <p style=\"text-align:center\">\n",
    "        On the left, a solution solved by classical compute. On the right, the same maze solved using quantum computing. Link to [Image](https://community.cadence.com/cadence_blogs_8/b/on-the-beat/posts/quantum-computing-101)\n",
    "    </p>\n",
    "</div>\n"
   ]
  },
  {
   "cell_type": "markdown",
   "id": "43ea7144-6d38-4f86-b1cf-01a08ec1335c",
   "metadata": {},
   "source": [
    "## What is Classical Computing?"
   ]
  },
  {
   "cell_type": "markdown",
   "id": "8de01c4e-a074-40c2-b2b5-5cee9339fad8",
   "metadata": {},
   "source": [
    "## Comparison of Quantum Computing and Classical Computing\n",
    "\n",
    "***\n",
    "\n",
    "Classical computers manipulate ones and zeroes to crunch through operations, but quantum computers use quantum bits or qubits. "
   ]
  },
  {
   "cell_type": "code",
   "execution_count": null,
   "id": "798b081a-08a8-4c25-ab23-8851becd9010",
   "metadata": {},
   "outputs": [],
   "source": []
  },
  {
   "cell_type": "markdown",
   "id": "5b9f8d71-6885-4811-9d54-5dda4488ed35",
   "metadata": {},
   "source": [
    "## General Info\n",
    "\n",
    "- quantum physics\n",
    "- photon\n",
    "- entagle quibits\n",
    "- Quantum Super Position\n"
   ]
  },
  {
   "cell_type": "code",
   "execution_count": null,
   "id": "e2ac102d-29b0-4252-b0c3-589877cb7422",
   "metadata": {},
   "outputs": [],
   "source": []
  },
  {
   "cell_type": "code",
   "execution_count": null,
   "id": "aa129450-a995-4bb6-bbb6-fa7a6535c3a9",
   "metadata": {},
   "outputs": [],
   "source": []
  },
  {
   "cell_type": "markdown",
   "id": "2f618064-0e75-4ac7-8b5a-05f6fd0394d2",
   "metadata": {},
   "source": [
    "## References\n",
    "1. Qiskit \"Deutsch-Jozsa Algorithm - Introduction\" https://qiskit.org/textbook/ch-algorithms/deutsch-jozsa.html\n",
    "\n",
    "2. NewScientist - https://www.newscientist.com/question/what-is-a-quantum-computer/\n",
    "\n",
    "3. https://physicsworld.com/a/quantum-technology-why-the-future-is-already-on-its-way/\n",
    "\n",
    "4. https://www.ncbi.nlm.nih.gov/pmc/articles/PMC33891/\n",
    "\n",
    "5. Computer Science  \"How N qubits corresponds to $ 2^N $ bits?\" https://cs.stackexchange.com/questions/87870/how-n-qubits-correspond-to-2n-bits"
   ]
  },
  {
   "cell_type": "markdown",
   "id": "a4b25d10-3d05-4ed5-851f-02946ab4b99d",
   "metadata": {},
   "source": [
    "***\n",
    "\n",
    "## End"
   ]
  }
 ],
 "metadata": {
  "kernelspec": {
   "display_name": "Python 3 (ipykernel)",
   "language": "python",
   "name": "python3"
  },
  "language_info": {
   "codemirror_mode": {
    "name": "ipython",
    "version": 3
   },
   "file_extension": ".py",
   "mimetype": "text/x-python",
   "name": "python",
   "nbconvert_exporter": "python",
   "pygments_lexer": "ipython3",
   "version": "3.9.7"
  }
 },
 "nbformat": 4,
 "nbformat_minor": 5
}
